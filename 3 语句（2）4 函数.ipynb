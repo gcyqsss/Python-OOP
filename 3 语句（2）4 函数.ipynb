{
 "cells": [
  {
   "cell_type": "code",
   "execution_count": 2,
   "id": "212a5473-39c6-4048-ba1b-0447695c5e62",
   "metadata": {
    "tags": []
   },
   "outputs": [
    {
     "name": "stdin",
     "output_type": "stream",
     "text": [
      "your name please:  \n"
     ]
    },
    {
     "name": "stdout",
     "output_type": "stream",
     "text": [
      "you forgot your name?\n"
     ]
    }
   ],
   "source": [
    "name = input('your name please: ')\n",
    "if name:\n",
    "    print('Hello, ' + name)\n",
    "else:\n",
    "    print('you forgot your name?')"
   ]
  },
  {
   "cell_type": "code",
   "execution_count": 4,
   "id": "d0374e5f-ff60-48c2-983b-a092202f2f16",
   "metadata": {
    "tags": []
   },
   "outputs": [
    {
     "name": "stdin",
     "output_type": "stream",
     "text": [
      "your name please:  \n"
     ]
    },
    {
     "name": "stdout",
     "output_type": "stream",
     "text": [
      "you forgot your name?\n"
     ]
    }
   ],
   "source": [
    "name = input('your name please: ')\n",
    "print('Hello, ' + name if name else 'you forgot your name?')"
   ]
  },
  {
   "cell_type": "code",
   "execution_count": 5,
   "id": "39804d8d-390b-459c-8ca7-006579ce4348",
   "metadata": {
    "tags": []
   },
   "outputs": [],
   "source": [
    "def abs(a):\n",
    "    return a if a >= 0 else -a"
   ]
  },
  {
   "cell_type": "code",
   "execution_count": 6,
   "id": "d59c2679-bed3-472d-ade2-3240698913a6",
   "metadata": {
    "tags": []
   },
   "outputs": [
    {
     "data": {
      "text/plain": [
       "True"
      ]
     },
     "execution_count": 6,
     "metadata": {},
     "output_type": "execute_result"
    }
   ],
   "source": [
    "a = 4\n",
    "3 < a < 5"
   ]
  },
  {
   "cell_type": "code",
   "execution_count": 7,
   "id": "cb7dce36-3bc4-40e3-9761-b1c750306ab7",
   "metadata": {
    "tags": []
   },
   "outputs": [
    {
     "name": "stdin",
     "output_type": "stream",
     "text": [
      "please input the year:  1984\n"
     ]
    },
    {
     "name": "stdout",
     "output_type": "stream",
     "text": [
      "leap year\n"
     ]
    }
   ],
   "source": [
    "year = int(input('please input the year: '))\n",
    "if year % 400 == 0:\n",
    "    print('leap year')\n",
    "elif year % 100 == 0:\n",
    "    print('not a leap year')\n",
    "elif year % 4 == 0:\n",
    "    print('leap year')\n",
    "else:\n",
    "    print('not a leap year')"
   ]
  },
  {
   "cell_type": "code",
   "execution_count": 12,
   "id": "fd9407a1-d62d-42ae-a6fa-6dc064ef8f4d",
   "metadata": {
    "tags": []
   },
   "outputs": [
    {
     "name": "stdin",
     "output_type": "stream",
     "text": [
      "please input the year:  -3\n"
     ]
    },
    {
     "ename": "AssertionError",
     "evalue": "",
     "output_type": "error",
     "traceback": [
      "\u001b[1;31m---------------------------------------------------------------------------\u001b[0m",
      "\u001b[1;31mAssertionError\u001b[0m                            Traceback (most recent call last)",
      "Cell \u001b[1;32mIn[12], line 13\u001b[0m\n\u001b[0;32m     10\u001b[0m         \u001b[38;5;28;01mreturn\u001b[39;00m \u001b[38;5;28;01mFalse\u001b[39;00m\n\u001b[0;32m     12\u001b[0m year \u001b[38;5;241m=\u001b[39m \u001b[38;5;28mint\u001b[39m(\u001b[38;5;28minput\u001b[39m(\u001b[38;5;124m'\u001b[39m\u001b[38;5;124mplease input the year: \u001b[39m\u001b[38;5;124m'\u001b[39m))\n\u001b[1;32m---> 13\u001b[0m \u001b[38;5;28mprint\u001b[39m(\u001b[38;5;124m'\u001b[39m\u001b[38;5;124mleap year\u001b[39m\u001b[38;5;124m'\u001b[39m \u001b[38;5;28;01mif\u001b[39;00m is_leap_year(year) \u001b[38;5;28;01melse\u001b[39;00m \u001b[38;5;124m'\u001b[39m\u001b[38;5;124mnot a leap year\u001b[39m\u001b[38;5;124m'\u001b[39m)\n",
      "Cell \u001b[1;32mIn[12], line 2\u001b[0m, in \u001b[0;36mis_leap_year\u001b[1;34m(year)\u001b[0m\n\u001b[0;32m      1\u001b[0m \u001b[38;5;28;01mdef\u001b[39;00m \u001b[38;5;21mis_leap_year\u001b[39m(year):\n\u001b[1;32m----> 2\u001b[0m     \u001b[38;5;28;01massert\u001b[39;00m(year \u001b[38;5;241m>\u001b[39m\u001b[38;5;241m=\u001b[39m \u001b[38;5;241m0\u001b[39m)\n\u001b[0;32m      3\u001b[0m     \u001b[38;5;28;01mif\u001b[39;00m year \u001b[38;5;241m%\u001b[39m \u001b[38;5;241m400\u001b[39m \u001b[38;5;241m==\u001b[39m \u001b[38;5;241m0\u001b[39m:\n\u001b[0;32m      4\u001b[0m         \u001b[38;5;28;01mreturn\u001b[39;00m \u001b[38;5;28;01mTrue\u001b[39;00m\n",
      "\u001b[1;31mAssertionError\u001b[0m: "
     ]
    }
   ],
   "source": [
    "def is_leap_year(year):\n",
    "    assert(year >= 0)\n",
    "    if year % 400 == 0:\n",
    "        return True\n",
    "    elif year % 100 == 0:\n",
    "        return False\n",
    "    elif year % 4 == 0:\n",
    "        return True\n",
    "    else:\n",
    "        return False\n",
    "    \n",
    "year = int(input('please input the year: '))\n",
    "print('leap year' if is_leap_year(year) else 'not a leap year')"
   ]
  },
  {
   "cell_type": "code",
   "execution_count": 11,
   "id": "27801bcb-1416-409d-9512-a7cd8b8587a1",
   "metadata": {
    "tags": []
   },
   "outputs": [
    {
     "ename": "AssertionError",
     "evalue": "",
     "output_type": "error",
     "traceback": [
      "\u001b[1;31m---------------------------------------------------------------------------\u001b[0m",
      "\u001b[1;31mAssertionError\u001b[0m                            Traceback (most recent call last)",
      "Cell \u001b[1;32mIn[11], line 1\u001b[0m\n\u001b[1;32m----> 1\u001b[0m \u001b[38;5;28;01massert\u001b[39;00m(\u001b[38;5;241m4\u001b[39m \u001b[38;5;241m==\u001b[39m \u001b[38;5;241m3\u001b[39m)\n",
      "\u001b[1;31mAssertionError\u001b[0m: "
     ]
    }
   ],
   "source": [
    "assert(4 == 3)"
   ]
  },
  {
   "cell_type": "code",
   "execution_count": 13,
   "id": "6dc27fab-2901-4536-a8e4-632b18a5e83d",
   "metadata": {
    "tags": []
   },
   "outputs": [],
   "source": [
    "def test_is_leap_year():\n",
    "    assert(is_leap_year(2000))\n",
    "    assert(is_leap_year(1900) == False)\n",
    "    assert(is_leap_year(1984))\n",
    "    assert(is_leap_year(3) == False)\n",
    "    \n",
    "test_is_leap_year()"
   ]
  },
  {
   "cell_type": "code",
   "execution_count": 14,
   "id": "43e83cf6-5352-4be5-8818-5cfb4fc0afdc",
   "metadata": {
    "tags": []
   },
   "outputs": [
    {
     "name": "stdin",
     "output_type": "stream",
     "text": [
      "please input the year:  -3\n"
     ]
    },
    {
     "name": "stdout",
     "output_type": "stream",
     "text": [
      "invalid year\n"
     ]
    }
   ],
   "source": [
    "def is_leap_year(year):\n",
    "    assert(year >= 0)\n",
    "    if year % 400 == 0:\n",
    "        return True\n",
    "    elif year % 100 == 0:\n",
    "        return False\n",
    "    elif year % 4 == 0:\n",
    "        return True\n",
    "    else:\n",
    "        return False\n",
    "    \n",
    "year = int(input('please input the year: '))\n",
    "if year < 0:\n",
    "    print('invalid year')\n",
    "else:\n",
    "    print('leap year' if is_leap_year(year) else 'not a leap year')"
   ]
  },
  {
   "cell_type": "code",
   "execution_count": 17,
   "id": "0d6d06fd-c475-46ef-a9e2-d5acc189f32f",
   "metadata": {
    "tags": []
   },
   "outputs": [],
   "source": [
    "def is_leap_year(year):\n",
    "    assert(year >= 0)\n",
    "    return (year % 400 == 0) or (year % 4 == 0 and year % 100)\n",
    "\n",
    "test_is_leap_year()"
   ]
  },
  {
   "cell_type": "code",
   "execution_count": 18,
   "id": "6d236554-27bc-4f3f-9824-06de92bd55e9",
   "metadata": {
    "tags": []
   },
   "outputs": [
    {
     "name": "stdout",
     "output_type": "stream",
     "text": [
      "1 2 4 5 7 8 10 11 14 16 17 19 20 22 25 26 28 29 40 41 44 46 47 49 50 52 55 56 58 59 61 62 64 65 67 68 70 71 74 76 77 79 80 82 85 86 88 89 91 92 94 95 97 98 100 "
     ]
    }
   ],
   "source": [
    "x = 1\n",
    "while x <= 100:\n",
    "    if x % 3 == 0 or '3' in str(x):\n",
    "        pass\n",
    "    else:\n",
    "        print(x, end=' ')\n",
    "    x += 1"
   ]
  },
  {
   "cell_type": "code",
   "execution_count": 19,
   "id": "a174053e-212d-4e1b-a6a7-a346f2fef9b8",
   "metadata": {
    "tags": []
   },
   "outputs": [
    {
     "name": "stdout",
     "output_type": "stream",
     "text": [
      "1 2 4 5 7 8 10 11 14 16 17 19 20 22 25 26 28 29 40 41 44 46 47 49 50 52 55 56 58 59 61 62 64 65 67 68 70 71 74 76 77 79 80 82 85 86 88 89 91 92 94 95 97 98 100 "
     ]
    }
   ],
   "source": [
    "x = 1\n",
    "while x <= 100:\n",
    "    if x % 3 == 0 or '3' in repr(x):\n",
    "        pass\n",
    "    else:\n",
    "        print(x, end=' ')\n",
    "    x += 1"
   ]
  },
  {
   "cell_type": "code",
   "execution_count": 21,
   "id": "a6104895-cb97-4815-86fa-1c6dbe9e70a7",
   "metadata": {
    "tags": []
   },
   "outputs": [
    {
     "name": "stdout",
     "output_type": "stream",
     "text": [
      "**********\n",
      "**********\n",
      "**********\n",
      "**********\n",
      "**********\n"
     ]
    }
   ],
   "source": [
    "for _ in range(5):\n",
    "    print('*' * 10)"
   ]
  },
  {
   "cell_type": "code",
   "execution_count": 22,
   "id": "84376933-dd74-4499-af5a-d3c4ab9139bd",
   "metadata": {
    "tags": []
   },
   "outputs": [
    {
     "name": "stdout",
     "output_type": "stream",
     "text": [
      "\b                                                           *"
     ]
    }
   ],
   "source": [
    "import math\n",
    "\n",
    "def wait():\n",
    "    y = 0\n",
    "    while y < 500000:\n",
    "        z = math.sin(0.2) * math.exp(0.1)\n",
    "        y += 1\n",
    "        \n",
    "bar_length = 60\n",
    "x = 1\n",
    "while x < bar_length:\n",
    "    print('\\b *', sep='', end='', flush=True)\n",
    "    x += 1\n",
    "    wait()"
   ]
  },
  {
   "cell_type": "code",
   "execution_count": 25,
   "id": "9660ebf2-2011-4eda-93ef-8e665743fbd0",
   "metadata": {
    "tags": []
   },
   "outputs": [
    {
     "name": "stdout",
     "output_type": "stream",
     "text": [
      "#                                                          *\r"
     ]
    }
   ],
   "source": [
    "import math\n",
    "\n",
    "def wait():\n",
    "    y = 0\n",
    "    while y < 500000:\n",
    "        z = math.sin(0.2) * math.exp(0.1)\n",
    "        y += 1\n",
    "        \n",
    "bar_length = 60\n",
    "x = 0\n",
    "y = bar_length - 1\n",
    "\n",
    "bar = list(' ' * bar_length)\n",
    "\n",
    "for i in range(bar_length):\n",
    "    bar[x] = '*'\n",
    "    bar[y] = '#'\n",
    "    print(''.join(bar), end='', flush=True) # show the bar\n",
    "    wait()\n",
    "    bar[x] = ' '\n",
    "    bar[y] = ' '\n",
    "    \n",
    "    x += 1\n",
    "    y -= 1\n",
    "    print('\\r', end='', flush=True)"
   ]
  },
  {
   "cell_type": "code",
   "execution_count": null,
   "id": "479c6bf7-736b-4f9b-a1fe-bf393ea9ab70",
   "metadata": {},
   "outputs": [],
   "source": [
    "init_bar()\n",
    "init_ants()\n",
    "\n",
    "update_bar()\n",
    "show_bar()\n",
    "\n",
    "while not is_bar_empty():\n",
    "    update_bar()\n",
    "    show_bar()\n",
    "    wait()\n",
    "    update_ants_position()"
   ]
  },
  {
   "cell_type": "code",
   "execution_count": 36,
   "id": "6a78a535-adf0-4678-810b-47e225df5644",
   "metadata": {
    "tags": []
   },
   "outputs": [
    {
     "name": "stdout",
     "output_type": "stream",
     "text": [
      "                                                            \r"
     ]
    }
   ],
   "source": [
    "from time import sleep\n",
    "\n",
    "def init_bar(bar_length):\n",
    "    bar = list(' ' * bar_length)\n",
    "    return bar\n",
    "\n",
    "def init_ants(bar_length):\n",
    "    ants = list()\n",
    "    ants.append({'position': 0, 'direction': 1, 'symbol': '*'})\n",
    "    ants.append({'position': bar_length - 1, 'direction': -1, 'symbol': '#'})\n",
    "    ants.append({'position': 35, 'direction': -1, 'symbol': '@'})\n",
    "    return ants\n",
    "\n",
    "def update_bar(bar, ants):\n",
    "    for i in range(len(bar)):\n",
    "        bar[i] = ' '\n",
    "        \n",
    "    for ant in ants:\n",
    "        if 0 <= ant['position'] < len(bar):\n",
    "            bar[ant['position']] = ant['symbol']\n",
    "            \n",
    "def is_bar_empty(bar):\n",
    "    for item in bar:\n",
    "        if not item == ' ':\n",
    "            return False\n",
    "    return True\n",
    "    \n",
    "def show_bar(bar):\n",
    "    print(''.join(bar), end='\\r', flush=True)\n",
    "    \n",
    "def update_ants_position(ants):\n",
    "    for ant in ants:\n",
    "        ant['position'] += ant['direction']\n",
    "        \n",
    "BAR_LENGTH = 60\n",
    "\n",
    "bar = init_bar(BAR_LENGTH)\n",
    "ants = init_ants(BAR_LENGTH)\n",
    "\n",
    "update_bar(bar, ants)\n",
    "show_bar(bar)\n",
    "\n",
    "while not is_bar_empty(bar):\n",
    "    update_bar(bar, ants)\n",
    "    show_bar(bar)\n",
    "    sleep(0.2)\n",
    "    update_ants_position(ants)\n",
    "        "
   ]
  },
  {
   "cell_type": "code",
   "execution_count": 37,
   "id": "a5d044ef-1f75-4404-b6f1-d9ebf579a3b0",
   "metadata": {
    "tags": []
   },
   "outputs": [
    {
     "name": "stdin",
     "output_type": "stream",
     "text": [
      "please input a sentense:  \n",
      "please input a sentense:  \n",
      "please input a sentense:  How are you? hello.\n"
     ]
    },
    {
     "name": "stdout",
     "output_type": "stream",
     "text": [
      "How 3\n",
      "are 3\n",
      "you? 4\n",
      "hello. 6\n"
     ]
    }
   ],
   "source": [
    "str1 = ''\n",
    "while not str1:\n",
    "    str1 = input('please input a sentense: ')\n",
    "    \n",
    "for word in str1.split():\n",
    "    print(word, len(word))"
   ]
  },
  {
   "cell_type": "code",
   "execution_count": 38,
   "id": "a668e35a-50e5-4ffe-a86e-8eb1927b1685",
   "metadata": {
    "tags": []
   },
   "outputs": [
    {
     "name": "stdout",
     "output_type": "stream",
     "text": [
      "a 10\n",
      "b 20\n",
      "c 30\n"
     ]
    }
   ],
   "source": [
    "names = ['a', 'b', 'c']\n",
    "age = [10, 20, 30]\n",
    "\n",
    "for i in range(3):\n",
    "    print(names[i], age[i])"
   ]
  },
  {
   "cell_type": "code",
   "execution_count": 39,
   "id": "c5428153-fc85-4c27-9e00-a424af32da79",
   "metadata": {
    "tags": []
   },
   "outputs": [
    {
     "name": "stdout",
     "output_type": "stream",
     "text": [
      "a 10\n",
      "b 20\n",
      "c 30\n"
     ]
    }
   ],
   "source": [
    "names = ['a', 'b', 'c']\n",
    "age = [10, 20, 30]\n",
    "\n",
    "for name, age in zip(names, age):\n",
    "    print(name, age)"
   ]
  },
  {
   "cell_type": "code",
   "execution_count": 42,
   "id": "125bc831-ec0c-46e6-9ff8-7969c1626be4",
   "metadata": {
    "tags": []
   },
   "outputs": [
    {
     "name": "stdout",
     "output_type": "stream",
     "text": [
      "1 a\n",
      "2 b\n",
      "3 c\n"
     ]
    }
   ],
   "source": [
    "names = ['a', 'b', 'c']\n",
    "for i in range(len(names)):\n",
    "    print(i + 1, names[i])"
   ]
  },
  {
   "cell_type": "code",
   "execution_count": 43,
   "id": "ba468908-84d7-4461-83f5-56ed216a375b",
   "metadata": {
    "tags": []
   },
   "outputs": [
    {
     "name": "stdout",
     "output_type": "stream",
     "text": [
      "0 a\n",
      "1 b\n",
      "2 c\n"
     ]
    }
   ],
   "source": [
    "for i, name in enumerate(names):\n",
    "    print(i, name)"
   ]
  },
  {
   "cell_type": "code",
   "execution_count": 44,
   "id": "b036bcf5-3ca3-47ee-91a5-5d3b96890510",
   "metadata": {
    "tags": []
   },
   "outputs": [
    {
     "data": {
      "text/plain": [
       "[1,\n",
       " 2,\n",
       " 4,\n",
       " 5,\n",
       " 7,\n",
       " 8,\n",
       " 10,\n",
       " 11,\n",
       " 14,\n",
       " 16,\n",
       " 17,\n",
       " 19,\n",
       " 20,\n",
       " 22,\n",
       " 25,\n",
       " 26,\n",
       " 28,\n",
       " 29,\n",
       " 40,\n",
       " 41,\n",
       " 44,\n",
       " 46,\n",
       " 47,\n",
       " 49,\n",
       " 50,\n",
       " 52,\n",
       " 55,\n",
       " 56,\n",
       " 58,\n",
       " 59,\n",
       " 61,\n",
       " 62,\n",
       " 64,\n",
       " 65,\n",
       " 67,\n",
       " 68,\n",
       " 70,\n",
       " 71,\n",
       " 74,\n",
       " 76,\n",
       " 77,\n",
       " 79,\n",
       " 80,\n",
       " 82,\n",
       " 85,\n",
       " 86,\n",
       " 88,\n",
       " 89,\n",
       " 91,\n",
       " 92,\n",
       " 94,\n",
       " 95,\n",
       " 97,\n",
       " 98]"
      ]
     },
     "execution_count": 44,
     "metadata": {},
     "output_type": "execute_result"
    }
   ],
   "source": [
    "[ x for x in range(100) if x % 3 and not '3' in str(x)]"
   ]
  },
  {
   "cell_type": "code",
   "execution_count": 46,
   "id": "14c72955-f0be-44cf-b0f9-75646f3ef03f",
   "metadata": {
    "tags": []
   },
   "outputs": [
    {
     "data": {
      "text/plain": [
       "[('arnold', 'alice'),\n",
       " ('bob', 'bernice'),\n",
       " ('chiris', 'clarice'),\n",
       " ('bob', 'beatrice')]"
      ]
     },
     "execution_count": 46,
     "metadata": {},
     "output_type": "execute_result"
    }
   ],
   "source": [
    "girls = ['alice', 'bernice', 'clarice', 'beatrice']\n",
    "boys = ['chiris', 'arnold', 'bob']\n",
    "[(boy, girl) for girl in girls for boy in boys if boy[0] == girl[0]]"
   ]
  },
  {
   "cell_type": "code",
   "execution_count": 47,
   "id": "087c0f50-8ba6-45f4-bf07-dce303470674",
   "metadata": {
    "tags": []
   },
   "outputs": [],
   "source": [
    "t = (i * 3 for i in range(10))"
   ]
  },
  {
   "cell_type": "code",
   "execution_count": 58,
   "id": "95ae588d-2d8f-4b5b-ae6b-99faf861311a",
   "metadata": {
    "tags": []
   },
   "outputs": [
    {
     "data": {
      "text/plain": [
       "<generator object <genexpr> at 0x0000015E1F22A5A0>"
      ]
     },
     "execution_count": 58,
     "metadata": {},
     "output_type": "execute_result"
    }
   ],
   "source": [
    "t"
   ]
  },
  {
   "cell_type": "code",
   "execution_count": 50,
   "id": "727ba3c7-ca50-445b-9354-f58a7751d966",
   "metadata": {
    "tags": []
   },
   "outputs": [
    {
     "data": {
      "text/plain": [
       "[0, 1, 2, 3, 4, 5, 6, 7, 8, 9]"
      ]
     },
     "execution_count": 50,
     "metadata": {},
     "output_type": "execute_result"
    }
   ],
   "source": [
    "list(range(10))"
   ]
  },
  {
   "cell_type": "code",
   "execution_count": 51,
   "id": "e3127324-5aa7-4d31-a5dd-c5f7095f7f11",
   "metadata": {
    "tags": []
   },
   "outputs": [
    {
     "data": {
      "text/plain": [
       "[0, 3, 6, 9, 12, 15, 18, 21, 24, 27]"
      ]
     },
     "execution_count": 51,
     "metadata": {},
     "output_type": "execute_result"
    }
   ],
   "source": [
    "list(t)"
   ]
  },
  {
   "cell_type": "code",
   "execution_count": 60,
   "id": "33d9471f-d521-4d58-88eb-7e65a847cedb",
   "metadata": {
    "tags": []
   },
   "outputs": [
    {
     "name": "stdout",
     "output_type": "stream",
     "text": [
      "abc abc\n"
     ]
    }
   ],
   "source": [
    "x = y = 'abc'\n",
    "print(x, y)"
   ]
  },
  {
   "cell_type": "code",
   "execution_count": 61,
   "id": "865c181c-c648-45d8-b7a8-42e58e0502aa",
   "metadata": {
    "tags": []
   },
   "outputs": [
    {
     "data": {
      "text/plain": [
       "True"
      ]
     },
     "execution_count": 61,
     "metadata": {},
     "output_type": "execute_result"
    }
   ],
   "source": [
    "x is y"
   ]
  },
  {
   "cell_type": "code",
   "execution_count": 62,
   "id": "c22cb890-0807-4c14-a1bf-618bbe024481",
   "metadata": {
    "tags": []
   },
   "outputs": [],
   "source": [
    "del x"
   ]
  },
  {
   "cell_type": "code",
   "execution_count": 63,
   "id": "2c22c2e0-10c9-4e15-ac06-b46f309d6b42",
   "metadata": {
    "tags": []
   },
   "outputs": [
    {
     "ename": "NameError",
     "evalue": "name 'x' is not defined",
     "output_type": "error",
     "traceback": [
      "\u001b[1;31m---------------------------------------------------------------------------\u001b[0m",
      "\u001b[1;31mNameError\u001b[0m                                 Traceback (most recent call last)",
      "Cell \u001b[1;32mIn[63], line 1\u001b[0m\n\u001b[1;32m----> 1\u001b[0m x\n",
      "\u001b[1;31mNameError\u001b[0m: name 'x' is not defined"
     ]
    }
   ],
   "source": [
    "x"
   ]
  },
  {
   "cell_type": "code",
   "execution_count": 64,
   "id": "f382a4b4-15a8-4fea-a131-09276c7b43ee",
   "metadata": {
    "tags": []
   },
   "outputs": [
    {
     "data": {
      "text/plain": [
       "'abc'"
      ]
     },
     "execution_count": 64,
     "metadata": {},
     "output_type": "execute_result"
    }
   ],
   "source": [
    "y"
   ]
  },
  {
   "cell_type": "code",
   "execution_count": 65,
   "id": "7690e63f-2bff-4540-b54d-4c3501c47803",
   "metadata": {
    "tags": []
   },
   "outputs": [
    {
     "name": "stdout",
     "output_type": "stream",
     "text": [
      "hello\n"
     ]
    }
   ],
   "source": [
    "exec('print(\"hello\")')"
   ]
  },
  {
   "cell_type": "code",
   "execution_count": 68,
   "id": "8eea9d42-cfea-4be0-84be-d5926e9aae56",
   "metadata": {
    "tags": []
   },
   "outputs": [
    {
     "name": "stdin",
     "output_type": "stream",
     "text": [
      "please input an expression:  2 + 3 + 5\n"
     ]
    },
    {
     "name": "stdout",
     "output_type": "stream",
     "text": [
      "10\n"
     ]
    }
   ],
   "source": [
    "expression = input('please input an expression: ')\n",
    "exec(f'print({expression})')"
   ]
  },
  {
   "cell_type": "code",
   "execution_count": 69,
   "id": "244db1dd-c0b1-4f70-8ff4-9a8234ab81ca",
   "metadata": {
    "tags": []
   },
   "outputs": [
    {
     "data": {
      "text/plain": [
       "5"
      ]
     },
     "execution_count": 69,
     "metadata": {},
     "output_type": "execute_result"
    }
   ],
   "source": [
    "eval('2+3')"
   ]
  },
  {
   "cell_type": "code",
   "execution_count": 70,
   "id": "858dca2b-d8eb-43ae-86b0-2bd67e219448",
   "metadata": {
    "tags": []
   },
   "outputs": [
    {
     "data": {
      "text/plain": [
       "1.4142135623730951"
      ]
     },
     "execution_count": 70,
     "metadata": {},
     "output_type": "execute_result"
    }
   ],
   "source": [
    "from math import sqrt\n",
    "\n",
    "sqrt(2)"
   ]
  },
  {
   "cell_type": "code",
   "execution_count": 71,
   "id": "fbcdfbaf-478a-46ad-a748-2a90cc7be985",
   "metadata": {
    "tags": []
   },
   "outputs": [],
   "source": [
    "sqrt = 1"
   ]
  },
  {
   "cell_type": "code",
   "execution_count": 72,
   "id": "af5004c2-18ef-4ebb-a349-3914e013b82a",
   "metadata": {
    "tags": []
   },
   "outputs": [
    {
     "ename": "TypeError",
     "evalue": "'int' object is not callable",
     "output_type": "error",
     "traceback": [
      "\u001b[1;31m---------------------------------------------------------------------------\u001b[0m",
      "\u001b[1;31mTypeError\u001b[0m                                 Traceback (most recent call last)",
      "Cell \u001b[1;32mIn[72], line 1\u001b[0m\n\u001b[1;32m----> 1\u001b[0m sqrt(\u001b[38;5;241m3\u001b[39m)\n",
      "\u001b[1;31mTypeError\u001b[0m: 'int' object is not callable"
     ]
    }
   ],
   "source": [
    "sqrt(3)"
   ]
  },
  {
   "cell_type": "code",
   "execution_count": 74,
   "id": "456d923f-ebd0-41d3-b395-fe6c5595a615",
   "metadata": {
    "tags": []
   },
   "outputs": [
    {
     "data": {
      "text/plain": [
       "['BAR_LENGTH',\n",
       " 'In',\n",
       " 'Out',\n",
       " '_',\n",
       " '_44',\n",
       " '_45',\n",
       " '_46',\n",
       " '_48',\n",
       " '_49',\n",
       " '_50',\n",
       " '_51',\n",
       " '_52',\n",
       " '_53',\n",
       " '_54',\n",
       " '_55',\n",
       " '_56',\n",
       " '_57',\n",
       " '_58',\n",
       " '_59',\n",
       " '_6',\n",
       " '_61',\n",
       " '_64',\n",
       " '_69',\n",
       " '_70',\n",
       " '_73',\n",
       " '__',\n",
       " '___',\n",
       " '__builtin__',\n",
       " '__builtins__',\n",
       " '__doc__',\n",
       " '__loader__',\n",
       " '__name__',\n",
       " '__package__',\n",
       " '__spec__',\n",
       " '_dh',\n",
       " '_i',\n",
       " '_i1',\n",
       " '_i10',\n",
       " '_i11',\n",
       " '_i12',\n",
       " '_i13',\n",
       " '_i14',\n",
       " '_i15',\n",
       " '_i16',\n",
       " '_i17',\n",
       " '_i18',\n",
       " '_i19',\n",
       " '_i2',\n",
       " '_i20',\n",
       " '_i21',\n",
       " '_i22',\n",
       " '_i23',\n",
       " '_i24',\n",
       " '_i25',\n",
       " '_i26',\n",
       " '_i27',\n",
       " '_i28',\n",
       " '_i29',\n",
       " '_i3',\n",
       " '_i30',\n",
       " '_i31',\n",
       " '_i32',\n",
       " '_i33',\n",
       " '_i34',\n",
       " '_i35',\n",
       " '_i36',\n",
       " '_i37',\n",
       " '_i38',\n",
       " '_i39',\n",
       " '_i4',\n",
       " '_i40',\n",
       " '_i41',\n",
       " '_i42',\n",
       " '_i43',\n",
       " '_i44',\n",
       " '_i45',\n",
       " '_i46',\n",
       " '_i47',\n",
       " '_i48',\n",
       " '_i49',\n",
       " '_i5',\n",
       " '_i50',\n",
       " '_i51',\n",
       " '_i52',\n",
       " '_i53',\n",
       " '_i54',\n",
       " '_i55',\n",
       " '_i56',\n",
       " '_i57',\n",
       " '_i58',\n",
       " '_i59',\n",
       " '_i6',\n",
       " '_i60',\n",
       " '_i61',\n",
       " '_i62',\n",
       " '_i63',\n",
       " '_i64',\n",
       " '_i65',\n",
       " '_i66',\n",
       " '_i67',\n",
       " '_i68',\n",
       " '_i69',\n",
       " '_i7',\n",
       " '_i70',\n",
       " '_i71',\n",
       " '_i72',\n",
       " '_i73',\n",
       " '_i74',\n",
       " '_i8',\n",
       " '_i9',\n",
       " '_ih',\n",
       " '_ii',\n",
       " '_iii',\n",
       " '_oh',\n",
       " 'a',\n",
       " 'abs',\n",
       " 'age',\n",
       " 'ants',\n",
       " 'bar',\n",
       " 'bar_length',\n",
       " 'boys',\n",
       " 'exit',\n",
       " 'expression',\n",
       " 'get_ipython',\n",
       " 'girls',\n",
       " 'i',\n",
       " 'init_ants',\n",
       " 'init_bar',\n",
       " 'is_bar_empty',\n",
       " 'is_leap_year',\n",
       " 'math',\n",
       " 'name',\n",
       " 'names',\n",
       " 'open',\n",
       " 'quit',\n",
       " 'show_bar',\n",
       " 'sleep',\n",
       " 'sqrt',\n",
       " 'str1',\n",
       " 't',\n",
       " 'test_is_leap_year',\n",
       " 'update_ants_position',\n",
       " 'update_bar',\n",
       " 'wait',\n",
       " 'word',\n",
       " 'y',\n",
       " 'year']"
      ]
     },
     "execution_count": 74,
     "metadata": {},
     "output_type": "execute_result"
    }
   ],
   "source": [
    "dir()"
   ]
  },
  {
   "cell_type": "code",
   "execution_count": 75,
   "id": "1153b299-16d7-4d41-95c5-a308f510adbe",
   "metadata": {
    "tags": []
   },
   "outputs": [
    {
     "data": {
      "text/plain": [
       "2.0"
      ]
     },
     "execution_count": 75,
     "metadata": {},
     "output_type": "execute_result"
    }
   ],
   "source": [
    "from math import sqrt\n",
    "\n",
    "scope = {}\n",
    "exec('sqrt = 1', scope)\n",
    "sqrt(4)\n"
   ]
  },
  {
   "cell_type": "code",
   "execution_count": 76,
   "id": "f8df83cc-438a-4c87-a4c0-943c4b700887",
   "metadata": {
    "tags": []
   },
   "outputs": [
    {
     "name": "stdout",
     "output_type": "stream",
     "text": [
      "Variable               Type                          Data/Info\n",
      "--------------------------------------------------------------\n",
      "BAR_LENGTH             int                           60\n",
      "a                      int                           4\n",
      "abs                    function                      <function abs at 0x0000015E1EDD9080>\n",
      "age                    int                           30\n",
      "ants                   list                          n=3\n",
      "bar                    list                          n=60\n",
      "bar_length             int                           60\n",
      "boys                   list                          n=3\n",
      "expression             str                           2 + 3 + 5\n",
      "girls                  list                          n=4\n",
      "i                      int                           2\n",
      "init_ants              function                      <function init_ants at 0x0000015E1EEC56C0>\n",
      "init_bar               function                      <function init_bar at 0x0000015E1FAB8C20>\n",
      "is_bar_empty           function                      <function is_bar_empty at 0x0000015E1FAB84A0>\n",
      "is_leap_year           function                      <function is_leap_year at 0x0000015E1FAB9620>\n",
      "math                   module                        <module 'math' (built-in)>\n",
      "name                   str                           c\n",
      "names                  list                          n=3\n",
      "scope                  dict                          n=2\n",
      "show_bar               function                      <function show_bar at 0x0000015E1FABA8E0>\n",
      "sleep                  builtin_function_or_method    <built-in function sleep>\n",
      "sqrt                   builtin_function_or_method    <built-in function sqrt>\n",
      "str1                   str                           How are you? hello.\n",
      "t                      generator                     <generator object <genexp<...>r> at 0x0000015E1F22A5A0>\n",
      "test_is_leap_year      function                      <function test_is_leap_ye<...>ar at 0x0000015E1EEC7380>\n",
      "update_ants_position   function                      <function update_ants_pos<...>on at 0x0000015E1FAB98A0>\n",
      "update_bar             function                      <function update_bar at 0x0000015E1FAB85E0>\n",
      "wait                   function                      <function wait at 0x0000015E1C3F9940>\n",
      "word                   str                           hello.\n",
      "y                      str                           abc\n",
      "year                   int                           -3\n"
     ]
    }
   ],
   "source": [
    "%whos"
   ]
  },
  {
   "cell_type": "code",
   "execution_count": 80,
   "id": "35d914f4-3c4a-4d67-86ad-45a85b043d19",
   "metadata": {
    "tags": []
   },
   "outputs": [
    {
     "name": "stdout",
     "output_type": "stream",
     "text": [
      "10\n",
      "9\n",
      "8\n",
      "7\n",
      "6\n",
      "5\n",
      "4\n",
      "3\n",
      "2\n",
      "1\n",
      "0\n"
     ]
    }
   ],
   "source": [
    "def print_numbers(n):\n",
    "    print(n)\n",
    "    if n > 0:\n",
    "        print_numbers(n-1)\n",
    "\n",
    "print_numbers(10)"
   ]
  },
  {
   "cell_type": "code",
   "execution_count": 81,
   "id": "c174b0ac-6bf4-4d55-a8c1-52859eef560a",
   "metadata": {
    "tags": []
   },
   "outputs": [
    {
     "name": "stdout",
     "output_type": "stream",
     "text": [
      "0\n",
      "1\n",
      "2\n",
      "3\n",
      "4\n",
      "5\n",
      "6\n",
      "7\n",
      "8\n",
      "9\n",
      "10\n"
     ]
    }
   ],
   "source": [
    "def print_numbers(n):\n",
    "    if n > 0:\n",
    "        print_numbers(n-1)\n",
    "    print(n)\n",
    "\n",
    "print_numbers(10)"
   ]
  },
  {
   "cell_type": "code",
   "execution_count": 82,
   "id": "20686640-3013-4fdf-9007-2a06018cb40f",
   "metadata": {
    "tags": []
   },
   "outputs": [
    {
     "name": "stdout",
     "output_type": "stream",
     "text": [
      "a -> c\n",
      "a -> b\n",
      "c -> b\n",
      "a -> c\n",
      "b -> a\n",
      "b -> c\n",
      "a -> c\n"
     ]
    }
   ],
   "source": [
    "def hanoi(n, source, target, temp):\n",
    "    if n == 1:\n",
    "        print(f'{source} -> {target}')\n",
    "    else:\n",
    "        hanoi(n - 1, source, temp, target)\n",
    "        # hanoi(1, source, target, temp)\n",
    "        print(f'{source} -> {target}')\n",
    "        hanoi(n - 1, temp, target, source)\n",
    "    \n",
    "hanoi(3, 'a', 'c', 'b')"
   ]
  },
  {
   "cell_type": "code",
   "execution_count": 83,
   "id": "2c9c6e15-074b-45a2-a81c-8271896ba623",
   "metadata": {
    "tags": []
   },
   "outputs": [
    {
     "data": {
      "text/plain": [
       "[1, 1, 2, 3, 5, 8, 13, 21, 34, 55]"
      ]
     },
     "execution_count": 83,
     "metadata": {},
     "output_type": "execute_result"
    }
   ],
   "source": [
    "def fib(n):\n",
    "    result = [1, 1]\n",
    "    for i in range(n - 2):\n",
    "        result.append(result[-2] + result[-1])\n",
    "    return result\n",
    "\n",
    "fib(10)"
   ]
  },
  {
   "cell_type": "code",
   "execution_count": 85,
   "id": "8f112618-0280-4953-956b-771f46a76eea",
   "metadata": {
    "tags": []
   },
   "outputs": [
    {
     "name": "stdout",
     "output_type": "stream",
     "text": [
      "55\n"
     ]
    }
   ],
   "source": [
    "def fib(n):\n",
    "    item_before_last, last = 1, 1\n",
    "    for i in range(n - 2):\n",
    "        item_before_last, last = last, item_before_last + last\n",
    "    return last\n",
    "\n",
    "print(fib(10))"
   ]
  },
  {
   "cell_type": "code",
   "execution_count": null,
   "id": "9fd67f38-2981-46fd-9977-f9f9d417d82a",
   "metadata": {},
   "outputs": [],
   "source": []
  }
 ],
 "metadata": {
  "kernelspec": {
   "display_name": "Python 3 (ipykernel)",
   "language": "python",
   "name": "python3"
  },
  "language_info": {
   "codemirror_mode": {
    "name": "ipython",
    "version": 3
   },
   "file_extension": ".py",
   "mimetype": "text/x-python",
   "name": "python",
   "nbconvert_exporter": "python",
   "pygments_lexer": "ipython3",
   "version": "3.11.4"
  }
 },
 "nbformat": 4,
 "nbformat_minor": 5
}
