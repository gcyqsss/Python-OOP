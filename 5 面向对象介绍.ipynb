{
 "cells": [
  {
   "cell_type": "code",
   "execution_count": 1,
   "id": "4315c071-c0bc-4173-bb9d-13c845e0b49a",
   "metadata": {
    "tags": []
   },
   "outputs": [
    {
     "name": "stdout",
     "output_type": "stream",
     "text": [
      "Hello, world! I am Zhang.\n",
      "Hello, world! I am Li.\n"
     ]
    }
   ],
   "source": [
    "class Person:\n",
    "    def set_name(self, name):\n",
    "        self.name = name\n",
    "        \n",
    "    def get_name(self):\n",
    "        return name\n",
    "    \n",
    "    def greet(self):\n",
    "        print(f'Hello, world! I am {self.name}.')\n",
    "        \n",
    "zs = Person()\n",
    "zs.set_name(\"Zhang\")\n",
    "zs.greet()\n",
    "\n",
    "ls = Person()\n",
    "ls.set_name(\"Li\")\n",
    "ls.greet()"
   ]
  },
  {
   "cell_type": "code",
   "execution_count": 2,
   "id": "92475a16-f7c5-4ebf-9689-608de6e24f05",
   "metadata": {
    "tags": []
   },
   "outputs": [
    {
     "name": "stdout",
     "output_type": "stream",
     "text": [
      "Hello, world! I am Zhang.\n"
     ]
    }
   ],
   "source": [
    "Person.greet(zs)"
   ]
  },
  {
   "cell_type": "code",
   "execution_count": 40,
   "id": "55b67166-6ae6-4395-abb8-468459d9f73e",
   "metadata": {
    "tags": []
   },
   "outputs": [
    {
     "name": "stdout",
     "output_type": "stream",
     "text": [
      "Hello, world! I am Zhang.\n"
     ]
    }
   ],
   "source": [
    "class Person:\n",
    "    def __init__(self, name=''):\n",
    "        #self.name = name\n",
    "        self.set_name(name)\n",
    "        \n",
    "    def set_name(self, name):\n",
    "        self.name = name\n",
    "        \n",
    "    def get_name(self):\n",
    "        return name\n",
    "    \n",
    "    def greet(self):\n",
    "        print(f'Hello, world! I am {self.name}.')\n",
    "        \n",
    "zs = Person('Zhang')\n",
    "zs.greet()\n"
   ]
  },
  {
   "cell_type": "code",
   "execution_count": 5,
   "id": "ce285292-255c-4cf9-a22a-3804396d4a8f",
   "metadata": {
    "tags": []
   },
   "outputs": [],
   "source": [
    "ls = Person()"
   ]
  },
  {
   "cell_type": "code",
   "execution_count": 6,
   "id": "ed38171f-6e5b-45ec-be73-4ca6f6e82e43",
   "metadata": {
    "tags": []
   },
   "outputs": [
    {
     "data": {
      "text/plain": [
       "'Li'"
      ]
     },
     "execution_count": 6,
     "metadata": {},
     "output_type": "execute_result"
    }
   ],
   "source": [
    "ls.set_name('Li')\n",
    "ls.name"
   ]
  },
  {
   "cell_type": "code",
   "execution_count": 7,
   "id": "a5f94773-c611-4106-ba3c-4c8441134224",
   "metadata": {
    "tags": []
   },
   "outputs": [],
   "source": [
    "ls.name='1'"
   ]
  },
  {
   "cell_type": "code",
   "execution_count": 8,
   "id": "1365beab-cd45-4eb0-beb9-da79c02c2d06",
   "metadata": {
    "tags": []
   },
   "outputs": [
    {
     "name": "stdout",
     "output_type": "stream",
     "text": [
      "Hello, world! I am 1.\n"
     ]
    }
   ],
   "source": [
    "ls.greet()"
   ]
  },
  {
   "cell_type": "code",
   "execution_count": 30,
   "id": "f1cbd2cb-9c86-4970-8395-0327db4d42c6",
   "metadata": {
    "tags": []
   },
   "outputs": [],
   "source": [
    "class Person:\n",
    "    'This class is used to represent a person.'\n",
    "    def __init__(self, name=''):\n",
    "        #self.name = name\n",
    "        self.set_name(name)\n",
    "        \n",
    "    def set_name(self, name):\n",
    "        'Set name for this person.'\n",
    "        self.__name = name\n",
    "        \n",
    "    def get_name(self):\n",
    "        return self.__name\n",
    "    \n",
    "    def greet(self):\n",
    "        print(f'Hello, world! I am {self.name}.')"
   ]
  },
  {
   "cell_type": "code",
   "execution_count": 10,
   "id": "d949543b-cf1e-4bdb-b345-0aad15cddf86",
   "metadata": {
    "tags": []
   },
   "outputs": [
    {
     "ename": "AttributeError",
     "evalue": "'Person' object has no attribute '__name'",
     "output_type": "error",
     "traceback": [
      "\u001b[1;31m---------------------------------------------------------------------------\u001b[0m",
      "\u001b[1;31mAttributeError\u001b[0m                            Traceback (most recent call last)",
      "Cell \u001b[1;32mIn[10], line 2\u001b[0m\n\u001b[0;32m      1\u001b[0m ls\u001b[38;5;241m.\u001b[39mset_name(\u001b[38;5;124m'\u001b[39m\u001b[38;5;124mLi\u001b[39m\u001b[38;5;124m'\u001b[39m)\n\u001b[1;32m----> 2\u001b[0m ls\u001b[38;5;241m.\u001b[39m__name\n",
      "\u001b[1;31mAttributeError\u001b[0m: 'Person' object has no attribute '__name'"
     ]
    }
   ],
   "source": [
    "ls.set_name('Li')\n",
    "ls.__name"
   ]
  },
  {
   "cell_type": "code",
   "execution_count": 11,
   "id": "74e2c36d-1745-4c0a-81c8-94882a4b98a2",
   "metadata": {
    "tags": []
   },
   "outputs": [],
   "source": [
    "ls.__name='1'"
   ]
  },
  {
   "cell_type": "code",
   "execution_count": 12,
   "id": "e36cab7f-4a7e-4f92-bc14-3b372ac8dd51",
   "metadata": {
    "tags": []
   },
   "outputs": [
    {
     "name": "stdout",
     "output_type": "stream",
     "text": [
      "Hello, world! I am Li.\n"
     ]
    }
   ],
   "source": [
    "ls.greet()"
   ]
  },
  {
   "cell_type": "code",
   "execution_count": 14,
   "id": "f8ecb2c0-0520-4a65-bf89-a7621e10dfaf",
   "metadata": {
    "tags": []
   },
   "outputs": [
    {
     "name": "stdout",
     "output_type": "stream",
     "text": [
      "Help on class Person in module __main__:\n",
      "\n",
      "class Person(builtins.object)\n",
      " |  Person(name='')\n",
      " |  \n",
      " |  This class is used to represent a person.\n",
      " |  \n",
      " |  Methods defined here:\n",
      " |  \n",
      " |  __init__(self, name='')\n",
      " |      Initialize self.  See help(type(self)) for accurate signature.\n",
      " |  \n",
      " |  get_name(self)\n",
      " |  \n",
      " |  greet(self)\n",
      " |  \n",
      " |  set_name(self, name)\n",
      " |      Set name for this person.\n",
      " |  \n",
      " |  ----------------------------------------------------------------------\n",
      " |  Data descriptors defined here:\n",
      " |  \n",
      " |  __dict__\n",
      " |      dictionary for instance variables (if defined)\n",
      " |  \n",
      " |  __weakref__\n",
      " |      list of weak references to the object (if defined)\n",
      "\n"
     ]
    }
   ],
   "source": [
    "help(Person)"
   ]
  },
  {
   "cell_type": "code",
   "execution_count": 74,
   "id": "d9c529f6-4c07-46dc-9d49-ee6de4d29348",
   "metadata": {
    "tags": []
   },
   "outputs": [],
   "source": [
    "class Person:\n",
    "    'This class is used to represent a person.'\n",
    "    def __init__(self, name=''):\n",
    "        #self.name = name\n",
    "        self.set_name(name)\n",
    "        \n",
    "    def set_name(self, name: str):\n",
    "        'Set name for this person.'\n",
    "        # assert(isinstance(name, str))\n",
    "        if isinstance(name, str):\n",
    "            self.__name = name\n",
    "        else:\n",
    "            # assert(False)\n",
    "            print('Invalid name when calling set_name().')\n",
    "            self.__name = 'invalid name'\n",
    "        \n",
    "    def get_name(self)->str:\n",
    "        return self.__name\n",
    "    \n",
    "    def greet(self):\n",
    "        print(f'Hello, world! I am {self.__name}.')"
   ]
  },
  {
   "cell_type": "code",
   "execution_count": 48,
   "id": "3848fd5d-abce-4d0b-ae27-959f5c4afc0a",
   "metadata": {
    "tags": []
   },
   "outputs": [
    {
     "name": "stdout",
     "output_type": "stream",
     "text": [
      "Hello, world! I am Zhang.\n"
     ]
    }
   ],
   "source": [
    "zs = Person('Zhang')\n",
    "zs.greet()"
   ]
  },
  {
   "cell_type": "code",
   "execution_count": 49,
   "id": "f253dcd2-988e-4678-82ca-e8c8c2c9e0c4",
   "metadata": {
    "tags": []
   },
   "outputs": [
    {
     "name": "stdout",
     "output_type": "stream",
     "text": [
      "Invalid name when calling set_name().\n",
      "Hello, world! I am invalid name.\n"
     ]
    }
   ],
   "source": [
    "zs = Person(3.14)\n",
    "zs.greet()"
   ]
  },
  {
   "cell_type": "code",
   "execution_count": 26,
   "id": "8ebc1fe0-016c-452f-9685-8f69a75810e0",
   "metadata": {
    "tags": []
   },
   "outputs": [
    {
     "name": "stdout",
     "output_type": "stream",
     "text": [
      "1\n",
      "2\n"
     ]
    }
   ],
   "source": [
    "print('hello, world!'.count('e'))\n",
    "print([1, 2, 'e', 'e', 3].count('e'))"
   ]
  },
  {
   "cell_type": "code",
   "execution_count": 39,
   "id": "6d30e774-ec98-41bf-9ad5-0402f01ccc2d",
   "metadata": {
    "tags": []
   },
   "outputs": [
    {
     "name": "stdout",
     "output_type": "stream",
     "text": [
      "hello,world : 1\n",
      "[1, 2, 'e', 'e', 3] : 2\n"
     ]
    }
   ],
   "source": [
    "my_list = ['hello,world', [1, 2, 'e', 'e', 3]]\n",
    "\n",
    "for item in my_list:\n",
    "    print(f\"{item} : {item.count('e')}\")"
   ]
  },
  {
   "cell_type": "code",
   "execution_count": 50,
   "id": "d1d63524-e708-455b-9c3a-5d85bf72f862",
   "metadata": {
    "tags": []
   },
   "outputs": [
    {
     "ename": "SyntaxError",
     "evalue": "invalid syntax (3110865695.py, line 7)",
     "output_type": "error",
     "traceback": [
      "\u001b[1;36m  Cell \u001b[1;32mIn[50], line 7\u001b[1;36m\u001b[0m\n\u001b[1;33m    ....\u001b[0m\n\u001b[1;37m        ^\u001b[0m\n\u001b[1;31mSyntaxError\u001b[0m\u001b[1;31m:\u001b[0m invalid syntax\n"
     ]
    }
   ],
   "source": [
    "my_list = ['hello,world', [1, 2, 'e', 'e', 3]]\n",
    "\n",
    "for item in my_list:\n",
    "    if isinstance(item, str):\n",
    "        item.count('e')\n",
    "    elif isinstance(item, str):\n",
    "        ....\n",
    "        "
   ]
  },
  {
   "cell_type": "code",
   "execution_count": 51,
   "id": "5d45cde4-b6e3-46b0-a9c7-1e1f8c3999c4",
   "metadata": {
    "tags": []
   },
   "outputs": [
    {
     "data": {
      "text/plain": [
       "3"
      ]
     },
     "execution_count": 51,
     "metadata": {},
     "output_type": "execute_result"
    }
   ],
   "source": [
    "1 + 2"
   ]
  },
  {
   "cell_type": "code",
   "execution_count": 53,
   "id": "95c5245c-9589-438c-9d1c-a9bb3273b522",
   "metadata": {
    "tags": []
   },
   "outputs": [
    {
     "data": {
      "text/plain": [
       "'hello world'"
      ]
     },
     "execution_count": 53,
     "metadata": {},
     "output_type": "execute_result"
    }
   ],
   "source": [
    "\"hello\" + \" \" + \"world\""
   ]
  },
  {
   "cell_type": "code",
   "execution_count": 55,
   "id": "532d3580-a87b-4ef5-a018-4e582769a657",
   "metadata": {
    "tags": []
   },
   "outputs": [
    {
     "name": "stdout",
     "output_type": "stream",
     "text": [
      "meow...\n",
      "wang, wang...\n",
      "meow...\n"
     ]
    }
   ],
   "source": [
    "# Polymorphism\n",
    "class Cat:\n",
    "    def talk(self):\n",
    "        print('meow...')\n",
    "\n",
    "class Dog:\n",
    "    def talk(self):\n",
    "        print('wang, wang...')\n",
    "        \n",
    "pets = [Cat(), Dog(), Cat()]\n",
    "for pet in pets:\n",
    "    pet.talk()"
   ]
  },
  {
   "cell_type": "code",
   "execution_count": 60,
   "id": "0f13b278-3064-4fb3-b776-24b0324d5d96",
   "metadata": {
    "tags": []
   },
   "outputs": [
    {
     "name": "stdout",
     "output_type": "stream",
     "text": [
      "meow...\n",
      "wang, wang...\n",
      "meow...\n",
      "Cannot talk.\n"
     ]
    }
   ],
   "source": [
    "class Cat:\n",
    "    def talk(self):\n",
    "        print('meow...')\n",
    "\n",
    "class Dog:\n",
    "    def talk(self):\n",
    "        print('wang, wang...')\n",
    "        \n",
    "class Turtle:\n",
    "    def walk(self):\n",
    "        pass\n",
    "        \n",
    "pets = [Cat(), Dog(), Cat(), Turtle()]\n",
    "for pet in pets:\n",
    "    if callable(getattr(pet, 'talk', None)):\n",
    "        pet.talk()\n",
    "    else:\n",
    "        print('Cannot talk.')"
   ]
  },
  {
   "cell_type": "code",
   "execution_count": 62,
   "id": "306925e0-b192-4dc3-9a4d-66b4f3db7998",
   "metadata": {
    "tags": []
   },
   "outputs": [
    {
     "name": "stdout",
     "output_type": "stream",
     "text": [
      "Hello, world! I am Zhang.\n",
      "My score is 100.\n"
     ]
    }
   ],
   "source": [
    "# Inheritance继承\n",
    "class Student(Person):\n",
    "    def set_score(self, score):\n",
    "        self.__score = score\n",
    "        \n",
    "    def get_score():\n",
    "        return self.__score;\n",
    "    \n",
    "    def show_score(self):\n",
    "        print(f'My score is {self.__score}.')\n",
    "        \n",
    "zs = Student()\n",
    "zs.set_name('Zhang')\n",
    "zs.set_score(100)\n",
    "zs.greet()\n",
    "zs.show_score()"
   ]
  },
  {
   "cell_type": "code",
   "execution_count": 70,
   "id": "47711c42-56eb-4803-8575-ab3b832513dd",
   "metadata": {
    "tags": []
   },
   "outputs": [],
   "source": [
    "class Student(Person):\n",
    "    def __init__(self, name=''):\n",
    "        Person.set_name(self, name)\n",
    "        \n",
    "    def set_score(self, score):\n",
    "        self.__score = score\n",
    "        \n",
    "    def get_score(self):\n",
    "        return self.__score;\n",
    "    \n",
    "    def show_score(self):\n",
    "        print(f'My score is {self.__score}.')\n",
    "        \n",
    "    def greet(self):\n",
    "        Person.greet(self)\n",
    "        print(f'My score is {self.__score}.')"
   ]
  },
  {
   "cell_type": "code",
   "execution_count": 73,
   "id": "f9a042af-2953-4c38-b0f8-adebe5c8e9c7",
   "metadata": {
    "tags": []
   },
   "outputs": [
    {
     "name": "stdout",
     "output_type": "stream",
     "text": [
      "Hello, world! I am Zhang.\n",
      "My score is 100.\n"
     ]
    }
   ],
   "source": [
    "zs = Student('Zhang')\n",
    "zs.set_score(100)\n",
    "zs.greet()"
   ]
  },
  {
   "cell_type": "code",
   "execution_count": 79,
   "id": "267b799d-9f5b-4254-97ba-d1aa3bb1ffb1",
   "metadata": {
    "tags": []
   },
   "outputs": [
    {
     "data": {
      "text/plain": [
       "['eggs', 'bacon']"
      ]
     },
     "execution_count": 79,
     "metadata": {},
     "output_type": "execute_result"
    }
   ],
   "source": [
    "class Filter:\n",
    "    def __init__(self):\n",
    "        self.__blocked = [0]\n",
    "        \n",
    "    def filter(self, sequence):\n",
    "        return [x for x in sequence if x not in self.__blocked]\n",
    "    \n",
    "class SpamFilter(Filter):\n",
    "    def __init__(self):\n",
    "        self._Filter__blocked = ['SPAM']\n",
    "        \n",
    "f = SpamFilter()\n",
    "f.filter(['SPAM', 'SPAM', 'eggs', 'bacon', 'SPAM'])"
   ]
  },
  {
   "cell_type": "code",
   "execution_count": 80,
   "id": "53280057-b292-41b0-824f-13c3d1af9ff0",
   "metadata": {
    "tags": []
   },
   "outputs": [
    {
     "data": {
      "text/plain": [
       "[1, 2]"
      ]
     },
     "execution_count": 80,
     "metadata": {},
     "output_type": "execute_result"
    }
   ],
   "source": [
    "f = Filter()\n",
    "f.filter([0, 1, 2])"
   ]
  },
  {
   "cell_type": "code",
   "execution_count": 82,
   "id": "36d11360-cb45-4cde-84ef-5cfaf8178af9",
   "metadata": {
    "tags": []
   },
   "outputs": [
    {
     "name": "stdout",
     "output_type": "stream",
     "text": [
      "[1, 2]\n",
      "['eggs', 'bacon']\n"
     ]
    }
   ],
   "source": [
    "class Filter:\n",
    "    def __init__(self, block_list):\n",
    "        self.__blocked = block_list\n",
    "        \n",
    "    def filter(self, sequence):\n",
    "        return [x for x in sequence if x not in self.__blocked]\n",
    "    \n",
    "f1 = Filter([0])\n",
    "print(f1.filter([0, 1, 2, 0]))\n",
    "f2 = Filter(['SPAM'])\n",
    "print(f2.filter(['SPAM', 'SPAM', 'eggs', 'bacon', 'SPAM']))"
   ]
  },
  {
   "cell_type": "code",
   "execution_count": 85,
   "id": "1f6a2b6c-3c7b-4a44-b13e-5738a83e2459",
   "metadata": {
    "tags": []
   },
   "outputs": [
    {
     "name": "stdout",
     "output_type": "stream",
     "text": [
      "cutting...\n",
      "screwing with screwdriver of size of 6...\n"
     ]
    }
   ],
   "source": [
    "class Screwdriver:\n",
    "    def screw(self):\n",
    "        print(f'screwing with screwdriver of size of {self.__size}...')\n",
    "        \n",
    "    def set_size(self, size):\n",
    "        self.__size = size\n",
    "    \n",
    "class Knife:\n",
    "    def cut(self):\n",
    "        print('cutting...')\n",
    "        \n",
    "class SwissKnife(Screwdriver, Knife):\n",
    "    pass\n",
    "\n",
    "sk = SwissKnife()\n",
    "sk.set_size(6)\n",
    "sk.cut()\n",
    "sk.screw()\n"
   ]
  },
  {
   "cell_type": "code",
   "execution_count": 92,
   "id": "c5656342-f9d5-401a-83ba-75d6e2ce3526",
   "metadata": {
    "tags": []
   },
   "outputs": [
    {
     "name": "stdout",
     "output_type": "stream",
     "text": [
      "screwing with screwdriver of size of 10...\n",
      "screwing with screwdriver of size of 6...\n"
     ]
    }
   ],
   "source": [
    "class Screwdriver:\n",
    "    def work(self):\n",
    "        print(f'screwing with screwdriver of size of {self.__size}...')\n",
    "        \n",
    "    def set_size(self, size):\n",
    "        self.__size = size\n",
    "    \n",
    "class Knife:\n",
    "    def work(self):\n",
    "        print('cutting...')\n",
    "        \n",
    "class SwissKnife:\n",
    "    def __init__(self):\n",
    "        self.__toolset = {}\n",
    "        \n",
    "    def add_tool(self, name, tool):\n",
    "        self.__toolset[name] = tool\n",
    "        \n",
    "    def use_tool(self, name):\n",
    "        self.__toolset[name].work()\n",
    "        \n",
    "sk = SwissKnife()\n",
    "sk.add_tool(\"Knife\", Knife())\n",
    "bs = Screwdriver()\n",
    "bs.set_size(10)\n",
    "sk.add_tool(\"Big screwdriver\", bs)\n",
    "ss = Screwdriver()\n",
    "ss.set_size(6)\n",
    "sk.add_tool(\"Small screwdriver\", ss)\n",
    "\n",
    "sk.use_tool(\"Big screwdriver\")\n",
    "sk.use_tool(\"Small screwdriver\")"
   ]
  },
  {
   "cell_type": "code",
   "execution_count": 96,
   "id": "9c3ecc86-bd82-4651-a1a0-9997d7f7c455",
   "metadata": {
    "tags": []
   },
   "outputs": [
    {
     "name": "stdout",
     "output_type": "stream",
     "text": [
      "                                                            \r"
     ]
    }
   ],
   "source": [
    "from time import sleep\n",
    "\n",
    "def init_bar(bar_length):\n",
    "    bar = list(' ' * bar_length)\n",
    "    return bar\n",
    "\n",
    "def init_ants(bar_length):\n",
    "    ants = list()\n",
    "    ants.append({'position': 0, 'direction': 1, 'symbol': '*'})\n",
    "    ants.append({'position': bar_length - 1, 'direction': -1, 'symbol': '#'})\n",
    "    ants.append({'position': 35, 'direction': -1, 'symbol': '@'})\n",
    "    return ants\n",
    "\n",
    "def update_bar(bar, ants):\n",
    "    for i in range(len(bar)):\n",
    "        bar[i] = ' '\n",
    "        \n",
    "    for ant in ants:\n",
    "        if 0 <= ant['position'] < len(bar):\n",
    "            bar[ant['position']] = ant['symbol']\n",
    "            \n",
    "def is_bar_empty(bar):\n",
    "    for item in bar:\n",
    "        if not item == ' ':\n",
    "            return False\n",
    "    return True\n",
    "    \n",
    "def show_bar(bar):\n",
    "    print(''.join(bar), end='\\r', flush=True)\n",
    "    \n",
    "def update_ants_position(ants):\n",
    "    for ant in ants:\n",
    "        ant['position'] += ant['direction']\n",
    "        \n",
    "BAR_LENGTH = 60\n",
    "\n",
    "bar = init_bar(BAR_LENGTH)\n",
    "ants = init_ants(BAR_LENGTH)\n",
    "\n",
    "update_bar(bar, ants)\n",
    "show_bar(bar)\n",
    "\n",
    "while not is_bar_empty(bar):\n",
    "    update_bar(bar, ants)\n",
    "    show_bar(bar)\n",
    "    sleep(0.2)\n",
    "    update_ants_position(ants)\n",
    "        "
   ]
  },
  {
   "cell_type": "code",
   "execution_count": 101,
   "id": "a4cc468b-91b3-4408-a44c-5949f265e2d1",
   "metadata": {
    "tags": []
   },
   "outputs": [
    {
     "name": "stdout",
     "output_type": "stream",
     "text": [
      "______________________________________________________________________\r"
     ]
    }
   ],
   "source": [
    "from time import sleep\n",
    "import random\n",
    "\n",
    "class Bar:\n",
    "    __empty = '_'\n",
    "    def __init__(self, length=80):\n",
    "        self.bar = list(Bar.__empty * length)\n",
    "        \n",
    "    def update(self, ants):\n",
    "        self.bar = list(Bar.__empty * len(self.bar))\n",
    "        for ant in ants:\n",
    "            if 0 < ant.position < len(self.bar):\n",
    "                self.bar[ant.position] = ant.symbol\n",
    "                \n",
    "    def is_empty(self):\n",
    "        for item in self.bar:\n",
    "            if not item == Bar.__empty:\n",
    "                return False\n",
    "        return True\n",
    "    \n",
    "    def show(self):\n",
    "        print(''.join(self.bar), end='\\r', flush=True)\n",
    "\n",
    "class Ant:\n",
    "    def __init__(self, position, direction, symbol='*'):\n",
    "        self.position = position\n",
    "        self.direction = direction\n",
    "        self.symbol = symbol\n",
    "        \n",
    "    def create_random_ant(length=80, symbol='*'):\n",
    "        position = random.randint(0, length - 1)\n",
    "        direction = random.choice([-1, 1])\n",
    "        return Ant(position, direction, symbol)\n",
    "    \n",
    "    def move(self):\n",
    "        self.position += self.direction\n",
    "\n",
    "class Ants:\n",
    "    def __init__(self, count=3):\n",
    "        symbols = 'ABCDEFGHIJKLMN'\n",
    "        self.ants = list()\n",
    "        for i in range(count):\n",
    "            self.ants.append(Ant.create_random_ant(symbol=symbols[i]))\n",
    "            \n",
    "    def move(self):\n",
    "        for ant in self.ants: ant.move()\n",
    "            \n",
    "    def get_ants(self):\n",
    "        return self.ants\n",
    "\n",
    "bar = Bar(70)\n",
    "ants = Ants(5)\n",
    "\n",
    "bar.update(ants.get_ants())\n",
    "bar.show()\n",
    "\n",
    "while not bar.is_empty():\n",
    "    sleep(0.25)\n",
    "    ants.move()\n",
    "    bar.update(ants.get_ants())\n",
    "    bar.show()"
   ]
  },
  {
   "cell_type": "code",
   "execution_count": null,
   "id": "cd136c1f-5ed6-4428-beb4-e5cfc3420597",
   "metadata": {},
   "outputs": [],
   "source": []
  }
 ],
 "metadata": {
  "kernelspec": {
   "display_name": "Python 3 (ipykernel)",
   "language": "python",
   "name": "python3"
  },
  "language_info": {
   "codemirror_mode": {
    "name": "ipython",
    "version": 3
   },
   "file_extension": ".py",
   "mimetype": "text/x-python",
   "name": "python",
   "nbconvert_exporter": "python",
   "pygments_lexer": "ipython3",
   "version": "3.11.4"
  }
 },
 "nbformat": 4,
 "nbformat_minor": 5
}
