{
 "cells": [
  {
   "cell_type": "code",
   "execution_count": 4,
   "id": "6355e1c5-e421-4336-bcf3-73b99a61bd56",
   "metadata": {
    "tags": []
   },
   "outputs": [
    {
     "name": "stdin",
     "output_type": "stream",
     "text": [
      "please input a name:  name2\n"
     ]
    },
    {
     "name": "stdout",
     "output_type": "stream",
     "text": [
      "90\n"
     ]
    }
   ],
   "source": [
    "names = ['name1','name2','name3']\n",
    "scores = [80, 90, 100]\n",
    "name = input('please input a name: ')\n",
    "print(scores[names.index(name)])"
   ]
  },
  {
   "cell_type": "code",
   "execution_count": 3,
   "id": "40c62bcf-a95a-4ce7-b813-8bdbba2a45ad",
   "metadata": {
    "tags": []
   },
   "outputs": [
    {
     "name": "stdin",
     "output_type": "stream",
     "text": [
      "please input a name:  name1\n"
     ]
    },
    {
     "name": "stdout",
     "output_type": "stream",
     "text": [
      "80\n"
     ]
    }
   ],
   "source": [
    "scores = [['name1', 80], ['name2', 90], ['name3', 100]]\n",
    "name = input('please input a name: ')\n",
    "for item in scores:\n",
    "    if item[0] == name:\n",
    "        print(item[1])"
   ]
  },
  {
   "cell_type": "code",
   "execution_count": 5,
   "id": "1fe60f7c-0118-495b-843c-bcf86a3cf6d0",
   "metadata": {
    "tags": []
   },
   "outputs": [
    {
     "name": "stdin",
     "output_type": "stream",
     "text": [
      "please input a name:  name3\n"
     ]
    },
    {
     "name": "stdout",
     "output_type": "stream",
     "text": [
      "100\n"
     ]
    }
   ],
   "source": [
    "scores = {'name1':80, 'name2':90, 'name3':100}\n",
    "name = input('please input a name: ')\n",
    "print(scores[name])"
   ]
  },
  {
   "cell_type": "code",
   "execution_count": 6,
   "id": "690296da-4d26-48d6-a702-a40e9c5ee927",
   "metadata": {
    "tags": []
   },
   "outputs": [],
   "source": [
    "scores['name4'] = 98\n"
   ]
  },
  {
   "cell_type": "code",
   "execution_count": 7,
   "id": "21487bd4-63a3-4c63-b93d-0fa617e9dbba",
   "metadata": {
    "tags": []
   },
   "outputs": [
    {
     "data": {
      "text/plain": [
       "{'name1': 80, 'name2': 90, 'name3': 100, 'name4': 98}"
      ]
     },
     "execution_count": 7,
     "metadata": {},
     "output_type": "execute_result"
    }
   ],
   "source": [
    "scores"
   ]
  },
  {
   "cell_type": "code",
   "execution_count": 9,
   "id": "54a3d536-ea57-46ed-a51f-99bfcd2b13ae",
   "metadata": {
    "tags": []
   },
   "outputs": [],
   "source": [
    "del scores['name1']"
   ]
  },
  {
   "cell_type": "code",
   "execution_count": 10,
   "id": "9c2a87fc-e661-4d98-99b2-fc343b9c3ab1",
   "metadata": {
    "tags": []
   },
   "outputs": [
    {
     "data": {
      "text/plain": [
       "{'name2': 90, 'name3': 100, 'name4': 98}"
      ]
     },
     "execution_count": 10,
     "metadata": {},
     "output_type": "execute_result"
    }
   ],
   "source": [
    "scores"
   ]
  },
  {
   "cell_type": "code",
   "execution_count": 11,
   "id": "9dd79d3f-c6ad-42e3-8abd-75af3617c5e3",
   "metadata": {
    "tags": []
   },
   "outputs": [
    {
     "data": {
      "text/plain": [
       "{'name': 'Bob', 'age': 24}"
      ]
     },
     "execution_count": 11,
     "metadata": {},
     "output_type": "execute_result"
    }
   ],
   "source": [
    "d = dict(name='Bob', age=24)\n",
    "d"
   ]
  },
  {
   "cell_type": "code",
   "execution_count": 12,
   "id": "239cc09c-3157-4ce7-a8d7-f9aeda4029dc",
   "metadata": {
    "tags": []
   },
   "outputs": [],
   "source": [
    "d1 = d\n",
    "d1['name']='Mary'"
   ]
  },
  {
   "cell_type": "code",
   "execution_count": 13,
   "id": "a185ce15-ebc9-48cf-9880-693e25e9a6f0",
   "metadata": {
    "tags": []
   },
   "outputs": [
    {
     "data": {
      "text/plain": [
       "{'name': 'Mary', 'age': 24}"
      ]
     },
     "execution_count": 13,
     "metadata": {},
     "output_type": "execute_result"
    }
   ],
   "source": [
    "d"
   ]
  },
  {
   "cell_type": "code",
   "execution_count": 14,
   "id": "ad4224a5-e1bb-44cf-9418-2443e8aa34b9",
   "metadata": {
    "tags": []
   },
   "outputs": [
    {
     "data": {
      "text/plain": [
       "{'name': None, 'age': None}"
      ]
     },
     "execution_count": 14,
     "metadata": {},
     "output_type": "execute_result"
    }
   ],
   "source": [
    "{}.fromkeys(['name','age'])"
   ]
  },
  {
   "cell_type": "code",
   "execution_count": 15,
   "id": "eeb42eff-c5cb-4ae8-a010-18c13e82f456",
   "metadata": {
    "tags": []
   },
   "outputs": [
    {
     "data": {
      "text/plain": [
       "{'name': 'not_initialized', 'age': 'not_initialized'}"
      ]
     },
     "execution_count": 15,
     "metadata": {},
     "output_type": "execute_result"
    }
   ],
   "source": [
    "{}.fromkeys(['name','age'],'not_initialized')"
   ]
  },
  {
   "cell_type": "code",
   "execution_count": 17,
   "id": "43ac8103-e0fb-4b80-bdaf-b7ef1707356c",
   "metadata": {
    "tags": []
   },
   "outputs": [
    {
     "name": "stdout",
     "output_type": "stream",
     "text": [
      "{'a': 4, 'e': 5, 'i': 7, 'o': 2, 'u': 0}\n"
     ]
    }
   ],
   "source": [
    "str = 'hello, this is a test. this is also a test. this is the final test'\n",
    "count = dict.fromkeys('aeiou', 0)\n",
    "for ch in str:\n",
    "    if ch in 'aeiou':\n",
    "        count[ch] += 1\n",
    "        \n",
    "print(count)"
   ]
  },
  {
   "cell_type": "code",
   "execution_count": 18,
   "id": "b350796e-6dcc-429b-8baf-661dea3a999f",
   "metadata": {
    "tags": []
   },
   "outputs": [
    {
     "data": {
      "text/plain": [
       "4"
      ]
     },
     "execution_count": 18,
     "metadata": {},
     "output_type": "execute_result"
    }
   ],
   "source": [
    "count['a']"
   ]
  },
  {
   "cell_type": "code",
   "execution_count": 19,
   "id": "b19e0b28-ff3e-4e78-8629-8a5a5c0c5795",
   "metadata": {
    "tags": []
   },
   "outputs": [
    {
     "ename": "KeyError",
     "evalue": "'b'",
     "output_type": "error",
     "traceback": [
      "\u001b[1;31m---------------------------------------------------------------------------\u001b[0m",
      "\u001b[1;31mKeyError\u001b[0m                                  Traceback (most recent call last)",
      "Cell \u001b[1;32mIn[19], line 1\u001b[0m\n\u001b[1;32m----> 1\u001b[0m count[\u001b[38;5;124m'\u001b[39m\u001b[38;5;124mb\u001b[39m\u001b[38;5;124m'\u001b[39m]\n",
      "\u001b[1;31mKeyError\u001b[0m: 'b'"
     ]
    }
   ],
   "source": [
    "count['b']"
   ]
  },
  {
   "cell_type": "code",
   "execution_count": 20,
   "id": "882d8bb9-71f9-4237-941d-13ee7d2dc213",
   "metadata": {
    "tags": []
   },
   "outputs": [
    {
     "name": "stdout",
     "output_type": "stream",
     "text": [
      "4\n"
     ]
    }
   ],
   "source": [
    "print(count.get('a'))"
   ]
  },
  {
   "cell_type": "code",
   "execution_count": 21,
   "id": "419db1d1-37a1-491b-82bc-8293cdd32d36",
   "metadata": {
    "tags": []
   },
   "outputs": [
    {
     "name": "stdout",
     "output_type": "stream",
     "text": [
      "None\n"
     ]
    }
   ],
   "source": [
    "print(count.get('b'))"
   ]
  },
  {
   "cell_type": "code",
   "execution_count": 22,
   "id": "4dadc2c0-7edc-4f6c-adb6-dddbb3f895be",
   "metadata": {
    "tags": []
   },
   "outputs": [
    {
     "data": {
      "text/plain": [
       "False"
      ]
     },
     "execution_count": 22,
     "metadata": {},
     "output_type": "execute_result"
    }
   ],
   "source": [
    "'b' in count"
   ]
  },
  {
   "cell_type": "code",
   "execution_count": 24,
   "id": "f31f4400-c76c-46aa-84e8-3b637dfd9e47",
   "metadata": {
    "tags": []
   },
   "outputs": [
    {
     "name": "stdout",
     "output_type": "stream",
     "text": [
      "0\n"
     ]
    }
   ],
   "source": [
    "print(count.get('b', 0))"
   ]
  },
  {
   "cell_type": "code",
   "execution_count": 29,
   "id": "d061caaa-cfc5-4215-8b6b-70ac06845f61",
   "metadata": {
    "tags": []
   },
   "outputs": [],
   "source": [
    "student = dict.fromkeys(('name', 'score'))"
   ]
  },
  {
   "cell_type": "code",
   "execution_count": 30,
   "id": "84dfac36-d696-4dd3-87be-6029d155c125",
   "metadata": {
    "tags": []
   },
   "outputs": [
    {
     "data": {
      "text/plain": [
       "{'name': None, 'score': None}"
      ]
     },
     "execution_count": 30,
     "metadata": {},
     "output_type": "execute_result"
    }
   ],
   "source": [
    "student"
   ]
  },
  {
   "cell_type": "code",
   "execution_count": 32,
   "id": "12a5583c-237a-4147-8bc0-23bfc02f0e8a",
   "metadata": {
    "tags": []
   },
   "outputs": [
    {
     "name": "stdin",
     "output_type": "stream",
     "text": [
      "please input a name:  yg\n",
      "please input a score:  80\n"
     ]
    },
    {
     "name": "stdout",
     "output_type": "stream",
     "text": [
      "Name: yg Score: 80\n"
     ]
    }
   ],
   "source": [
    "student['name'] = input('please input a name: ')\n",
    "student['score'] = int(input('please input a score: '))\n",
    "\n",
    "print(f\"Name: {student['name']} Score: {student['score']}\")\n"
   ]
  },
  {
   "cell_type": "code",
   "execution_count": 33,
   "id": "81829285-c604-4975-9f03-2cbd24cf6aef",
   "metadata": {
    "tags": []
   },
   "outputs": [],
   "source": [
    "text = \"赵钱孙李、周吴郑王、冯陈褚卫、蒋沈韩杨、朱秦尤许、何吕施张、孔曹严华、金魏陶姜、戚谢邹喻、柏水窦章、云苏潘葛、奚范彭郎、鲁韦昌马、苗凤花方、俞任袁柳、酆鲍史唐、费廉岑薛、雷贺倪汤、滕殷罗毕、郝邬安常、乐于时傅、皮卞齐康、伍余元卜、顾孟平黄、和穆萧尹、姚邵湛汪、祁毛禹狄、米贝明臧、计伏成戴、谈宋茅庞、熊纪舒屈、项祝董梁、杜阮蓝闵、席季麻强、贾路娄危、江童颜郭、梅盛林刁、钟徐邱骆、高夏蔡田、樊胡凌霍、虞万支柯、昝管卢莫、经房裘缪、干解应宗、丁宣贲邓、郁单杭洪、包诸左石、崔吉钮龚、程嵇邢滑、裴陆荣翁、荀羊於惠、甄麴家封、芮羿储靳、汲邴糜松、井段富巫、乌焦巴弓、牧隗山谷、车侯宓蓬、全郗班仰、秋仲伊宫、宁仇栾暴、甘钭厉戎、祖武符刘\"\n"
   ]
  },
  {
   "cell_type": "code",
   "execution_count": 35,
   "id": "925e14aa-9244-4000-bcb2-70f1eab439e5",
   "metadata": {
    "tags": []
   },
   "outputs": [
    {
     "name": "stdout",
     "output_type": "stream",
     "text": [
      "Collecting pypinyinNote: you may need to restart the kernel to use updated packages.\n",
      "\n",
      "  Obtaining dependency information for pypinyin from https://files.pythonhosted.org/packages/00/fc/3e82bf38739a7b2c4f699245ce6c84ff254723c678c2cdc5d2ecbddf9afb/pypinyin-0.49.0-py2.py3-none-any.whl.metadata\n",
      "  Downloading pypinyin-0.49.0-py2.py3-none-any.whl.metadata (12 kB)\n",
      "Downloading pypinyin-0.49.0-py2.py3-none-any.whl (1.4 MB)\n",
      "   ---------------------------------------- 0.0/1.4 MB ? eta -:--:--\n",
      "   ---------------------------------------- 0.0/1.4 MB ? eta -:--:--\n",
      "   ---------------------------------------- 0.0/1.4 MB ? eta -:--:--\n",
      "    --------------------------------------- 0.0/1.4 MB 262.6 kB/s eta 0:00:06\n",
      "    --------------------------------------- 0.0/1.4 MB 262.6 kB/s eta 0:00:06\n",
      "    --------------------------------------- 0.0/1.4 MB 262.6 kB/s eta 0:00:06\n",
      "    --------------------------------------- 0.0/1.4 MB 262.6 kB/s eta 0:00:06\n",
      "   - -------------------------------------- 0.1/1.4 MB 182.2 kB/s eta 0:00:08\n",
      "   -- ------------------------------------- 0.1/1.4 MB 187.3 kB/s eta 0:00:07\n",
      "   --- ------------------------------------ 0.1/1.4 MB 273.1 kB/s eta 0:00:05\n",
      "   --- ------------------------------------ 0.1/1.4 MB 273.1 kB/s eta 0:00:05\n",
      "   --- ------------------------------------ 0.1/1.4 MB 273.1 kB/s eta 0:00:05\n",
      "   --- ------------------------------------ 0.1/1.4 MB 273.1 kB/s eta 0:00:05\n",
      "   ---- ----------------------------------- 0.2/1.4 MB 241.8 kB/s eta 0:00:06\n",
      "   ------ --------------------------------- 0.2/1.4 MB 336.0 kB/s eta 0:00:04\n",
      "   ------ --------------------------------- 0.2/1.4 MB 343.4 kB/s eta 0:00:04\n",
      "   ------ --------------------------------- 0.2/1.4 MB 343.4 kB/s eta 0:00:04\n",
      "   ------ --------------------------------- 0.2/1.4 MB 343.4 kB/s eta 0:00:04\n",
      "   ------ --------------------------------- 0.2/1.4 MB 343.4 kB/s eta 0:00:04\n",
      "   -------- ------------------------------- 0.3/1.4 MB 321.9 kB/s eta 0:00:04\n",
      "   ---------- ----------------------------- 0.4/1.4 MB 395.6 kB/s eta 0:00:03\n",
      "   ---------- ----------------------------- 0.4/1.4 MB 395.6 kB/s eta 0:00:03\n",
      "   ---------- ----------------------------- 0.4/1.4 MB 395.6 kB/s eta 0:00:03\n",
      "   ---------- ----------------------------- 0.4/1.4 MB 395.6 kB/s eta 0:00:03\n",
      "   ----------- ---------------------------- 0.4/1.4 MB 350.9 kB/s eta 0:00:03\n",
      "   -------------- ------------------------- 0.5/1.4 MB 407.5 kB/s eta 0:00:03\n",
      "   -------------- ------------------------- 0.5/1.4 MB 416.3 kB/s eta 0:00:03\n",
      "   -------------- ------------------------- 0.5/1.4 MB 416.3 kB/s eta 0:00:03\n",
      "   -------------- ------------------------- 0.5/1.4 MB 416.3 kB/s eta 0:00:03\n",
      "   -------------- ------------------------- 0.5/1.4 MB 416.3 kB/s eta 0:00:03\n",
      "   -------------- ------------------------- 0.5/1.4 MB 416.3 kB/s eta 0:00:03\n",
      "   -------------------- ------------------- 0.7/1.4 MB 484.6 kB/s eta 0:00:02\n",
      "   ------------------------ --------------- 0.8/1.4 MB 545.1 kB/s eta 0:00:01\n",
      "   ------------------------ --------------- 0.8/1.4 MB 545.1 kB/s eta 0:00:01\n",
      "   ------------------------ --------------- 0.8/1.4 MB 545.1 kB/s eta 0:00:01\n",
      "   ------------------------ --------------- 0.8/1.4 MB 545.1 kB/s eta 0:00:01\n",
      "   ------------------------ --------------- 0.8/1.4 MB 545.1 kB/s eta 0:00:01\n",
      "   ------------------------ --------------- 0.8/1.4 MB 482.8 kB/s eta 0:00:02\n",
      "   ------------------------------------ --- 1.2/1.4 MB 689.9 kB/s eta 0:00:01\n",
      "   ---------------------------------------- 1.4/1.4 MB 753.2 kB/s eta 0:00:00\n",
      "Installing collected packages: pypinyin\n",
      "Successfully installed pypinyin-0.49.0\n"
     ]
    }
   ],
   "source": [
    "pip install pypinyin"
   ]
  },
  {
   "cell_type": "code",
   "execution_count": 36,
   "id": "3c539b4b-4682-42de-9e0e-dec5a39c550e",
   "metadata": {
    "tags": []
   },
   "outputs": [],
   "source": [
    "import pypinyin\n",
    "pinyin_list = pypinyin.pinyin(text, style=pypinyin.Style.NORMAL)"
   ]
  },
  {
   "cell_type": "code",
   "execution_count": 80,
   "id": "c319284a-4e2b-4097-8d66-82d2750de272",
   "metadata": {
    "tags": []
   },
   "outputs": [
    {
     "data": {
      "text/plain": [
       "[['zhao'],\n",
       " ['qian'],\n",
       " ['sun'],\n",
       " ['li'],\n",
       " ['、'],\n",
       " ['zhou'],\n",
       " ['wu'],\n",
       " ['zheng'],\n",
       " ['wang'],\n",
       " ['、'],\n",
       " ['feng'],\n",
       " ['chen'],\n",
       " ['chu'],\n",
       " ['wei'],\n",
       " ['、'],\n",
       " ['jiang'],\n",
       " ['shen'],\n",
       " ['han'],\n",
       " ['yang'],\n",
       " ['、'],\n",
       " ['zhu'],\n",
       " ['qin'],\n",
       " ['you'],\n",
       " ['xu'],\n",
       " ['、'],\n",
       " ['he'],\n",
       " ['lv'],\n",
       " ['shi'],\n",
       " ['zhang'],\n",
       " ['、'],\n",
       " ['kong'],\n",
       " ['cao'],\n",
       " ['yan'],\n",
       " ['hua'],\n",
       " ['、'],\n",
       " ['jin'],\n",
       " ['wei'],\n",
       " ['tao'],\n",
       " ['jiang'],\n",
       " ['、'],\n",
       " ['qi'],\n",
       " ['xie'],\n",
       " ['zou'],\n",
       " ['yu'],\n",
       " ['、'],\n",
       " ['bai'],\n",
       " ['shui'],\n",
       " ['dou'],\n",
       " ['zhang'],\n",
       " ['、'],\n",
       " ['yun'],\n",
       " ['su'],\n",
       " ['pan'],\n",
       " ['ge'],\n",
       " ['、'],\n",
       " ['xi'],\n",
       " ['fan'],\n",
       " ['peng'],\n",
       " ['lang'],\n",
       " ['、'],\n",
       " ['lu'],\n",
       " ['wei'],\n",
       " ['chang'],\n",
       " ['ma'],\n",
       " ['、'],\n",
       " ['miao'],\n",
       " ['feng'],\n",
       " ['hua'],\n",
       " ['fang'],\n",
       " ['、'],\n",
       " ['yu'],\n",
       " ['ren'],\n",
       " ['yuan'],\n",
       " ['liu'],\n",
       " ['、'],\n",
       " ['feng'],\n",
       " ['bao'],\n",
       " ['shi'],\n",
       " ['tang'],\n",
       " ['、'],\n",
       " ['fei'],\n",
       " ['lian'],\n",
       " ['cen'],\n",
       " ['xue'],\n",
       " ['、'],\n",
       " ['lei'],\n",
       " ['he'],\n",
       " ['ni'],\n",
       " ['tang'],\n",
       " ['、'],\n",
       " ['teng'],\n",
       " ['yin'],\n",
       " ['luo'],\n",
       " ['bi'],\n",
       " ['、'],\n",
       " ['hao'],\n",
       " ['wu'],\n",
       " ['an'],\n",
       " ['chang'],\n",
       " ['、'],\n",
       " ['le'],\n",
       " ['yu'],\n",
       " ['shi'],\n",
       " ['fu'],\n",
       " ['、'],\n",
       " ['pi'],\n",
       " ['bian'],\n",
       " ['qi'],\n",
       " ['kang'],\n",
       " ['、'],\n",
       " ['wu'],\n",
       " ['yu'],\n",
       " ['yuan'],\n",
       " ['bo'],\n",
       " ['、'],\n",
       " ['gu'],\n",
       " ['meng'],\n",
       " ['ping'],\n",
       " ['huang'],\n",
       " ['、'],\n",
       " ['he'],\n",
       " ['mu'],\n",
       " ['xiao'],\n",
       " ['yin'],\n",
       " ['、'],\n",
       " ['yao'],\n",
       " ['shao'],\n",
       " ['zhan'],\n",
       " ['wang'],\n",
       " ['、'],\n",
       " ['qi'],\n",
       " ['mao'],\n",
       " ['yu'],\n",
       " ['di'],\n",
       " ['、'],\n",
       " ['mi'],\n",
       " ['bei'],\n",
       " ['ming'],\n",
       " ['zang'],\n",
       " ['、'],\n",
       " ['ji'],\n",
       " ['fu'],\n",
       " ['cheng'],\n",
       " ['dai'],\n",
       " ['、'],\n",
       " ['tan'],\n",
       " ['song'],\n",
       " ['mao'],\n",
       " ['pang'],\n",
       " ['、'],\n",
       " ['xiong'],\n",
       " ['ji'],\n",
       " ['shu'],\n",
       " ['qu'],\n",
       " ['、'],\n",
       " ['xiang'],\n",
       " ['zhu'],\n",
       " ['dong'],\n",
       " ['liang'],\n",
       " ['、'],\n",
       " ['du'],\n",
       " ['ruan'],\n",
       " ['lan'],\n",
       " ['min'],\n",
       " ['、'],\n",
       " ['xi'],\n",
       " ['ji'],\n",
       " ['ma'],\n",
       " ['qiang'],\n",
       " ['、'],\n",
       " ['jia'],\n",
       " ['lu'],\n",
       " ['lou'],\n",
       " ['wei'],\n",
       " ['、'],\n",
       " ['jiang'],\n",
       " ['tong'],\n",
       " ['yan'],\n",
       " ['guo'],\n",
       " ['、'],\n",
       " ['mei'],\n",
       " ['sheng'],\n",
       " ['lin'],\n",
       " ['diao'],\n",
       " ['、'],\n",
       " ['zhong'],\n",
       " ['xu'],\n",
       " ['qiu'],\n",
       " ['luo'],\n",
       " ['、'],\n",
       " ['gao'],\n",
       " ['xia'],\n",
       " ['cai'],\n",
       " ['tian'],\n",
       " ['、'],\n",
       " ['fan'],\n",
       " ['hu'],\n",
       " ['ling'],\n",
       " ['huo'],\n",
       " ['、'],\n",
       " ['yu'],\n",
       " ['wan'],\n",
       " ['zhi'],\n",
       " ['ke'],\n",
       " ['、'],\n",
       " ['zan'],\n",
       " ['guan'],\n",
       " ['lu'],\n",
       " ['mo'],\n",
       " ['、'],\n",
       " ['jing'],\n",
       " ['fang'],\n",
       " ['qiu'],\n",
       " ['mou'],\n",
       " ['、'],\n",
       " ['gan'],\n",
       " ['jie'],\n",
       " ['ying'],\n",
       " ['zong'],\n",
       " ['、'],\n",
       " ['ding'],\n",
       " ['xuan'],\n",
       " ['ben'],\n",
       " ['deng'],\n",
       " ['、'],\n",
       " ['yu'],\n",
       " ['dan'],\n",
       " ['hang'],\n",
       " ['hong'],\n",
       " ['、'],\n",
       " ['bao'],\n",
       " ['zhu'],\n",
       " ['zuo'],\n",
       " ['shi'],\n",
       " ['、'],\n",
       " ['cui'],\n",
       " ['ji'],\n",
       " ['niu'],\n",
       " ['gong'],\n",
       " ['、'],\n",
       " ['cheng'],\n",
       " ['ji'],\n",
       " ['xing'],\n",
       " ['hua'],\n",
       " ['、'],\n",
       " ['pei'],\n",
       " ['lu'],\n",
       " ['rong'],\n",
       " ['weng'],\n",
       " ['、'],\n",
       " ['xun'],\n",
       " ['yang'],\n",
       " ['yu'],\n",
       " ['hui'],\n",
       " ['、'],\n",
       " ['zhen'],\n",
       " ['qu'],\n",
       " ['jia'],\n",
       " ['feng'],\n",
       " ['、'],\n",
       " ['rui'],\n",
       " ['yi'],\n",
       " ['chu'],\n",
       " ['jin'],\n",
       " ['、'],\n",
       " ['ji'],\n",
       " ['bing'],\n",
       " ['mi'],\n",
       " ['song'],\n",
       " ['、'],\n",
       " ['jing'],\n",
       " ['duan'],\n",
       " ['fu'],\n",
       " ['wu'],\n",
       " ['、'],\n",
       " ['wu'],\n",
       " ['jiao'],\n",
       " ['ba'],\n",
       " ['gong'],\n",
       " ['、'],\n",
       " ['mu'],\n",
       " ['kui'],\n",
       " ['shan'],\n",
       " ['gu'],\n",
       " ['、'],\n",
       " ['che'],\n",
       " ['hou'],\n",
       " ['mi'],\n",
       " ['peng'],\n",
       " ['、'],\n",
       " ['quan'],\n",
       " ['xi'],\n",
       " ['ban'],\n",
       " ['yang'],\n",
       " ['、'],\n",
       " ['qiu'],\n",
       " ['zhong'],\n",
       " ['yi'],\n",
       " ['gong'],\n",
       " ['、'],\n",
       " ['ning'],\n",
       " ['chou'],\n",
       " ['luan'],\n",
       " ['bao'],\n",
       " ['、'],\n",
       " ['gan'],\n",
       " ['tou'],\n",
       " ['li'],\n",
       " ['rong'],\n",
       " ['、'],\n",
       " ['zu'],\n",
       " ['wu'],\n",
       " ['fu'],\n",
       " ['liu']]"
      ]
     },
     "execution_count": 80,
     "metadata": {},
     "output_type": "execute_result"
    }
   ],
   "source": [
    "pinyin_list"
   ]
  },
  {
   "cell_type": "code",
   "execution_count": 81,
   "id": "20ae0730-e99a-4db4-88c9-db05992bdfa7",
   "metadata": {
    "tags": []
   },
   "outputs": [],
   "source": [
    "name_list = [item[0].title() for item in pinyin_list if item[0] != '、']"
   ]
  },
  {
   "cell_type": "code",
   "execution_count": 82,
   "id": "53da85d3-5476-4094-932b-a75aa70caa5e",
   "metadata": {
    "tags": []
   },
   "outputs": [
    {
     "data": {
      "text/plain": [
       "['Zhao',\n",
       " 'Qian',\n",
       " 'Sun',\n",
       " 'Li',\n",
       " 'Zhou',\n",
       " 'Wu',\n",
       " 'Zheng',\n",
       " 'Wang',\n",
       " 'Feng',\n",
       " 'Chen',\n",
       " 'Chu',\n",
       " 'Wei',\n",
       " 'Jiang',\n",
       " 'Shen',\n",
       " 'Han',\n",
       " 'Yang',\n",
       " 'Zhu',\n",
       " 'Qin',\n",
       " 'You',\n",
       " 'Xu',\n",
       " 'He',\n",
       " 'Lv',\n",
       " 'Shi',\n",
       " 'Zhang',\n",
       " 'Kong',\n",
       " 'Cao',\n",
       " 'Yan',\n",
       " 'Hua',\n",
       " 'Jin',\n",
       " 'Wei',\n",
       " 'Tao',\n",
       " 'Jiang',\n",
       " 'Qi',\n",
       " 'Xie',\n",
       " 'Zou',\n",
       " 'Yu',\n",
       " 'Bai',\n",
       " 'Shui',\n",
       " 'Dou',\n",
       " 'Zhang',\n",
       " 'Yun',\n",
       " 'Su',\n",
       " 'Pan',\n",
       " 'Ge',\n",
       " 'Xi',\n",
       " 'Fan',\n",
       " 'Peng',\n",
       " 'Lang',\n",
       " 'Lu',\n",
       " 'Wei',\n",
       " 'Chang',\n",
       " 'Ma',\n",
       " 'Miao',\n",
       " 'Feng',\n",
       " 'Hua',\n",
       " 'Fang',\n",
       " 'Yu',\n",
       " 'Ren',\n",
       " 'Yuan',\n",
       " 'Liu',\n",
       " 'Feng',\n",
       " 'Bao',\n",
       " 'Shi',\n",
       " 'Tang',\n",
       " 'Fei',\n",
       " 'Lian',\n",
       " 'Cen',\n",
       " 'Xue',\n",
       " 'Lei',\n",
       " 'He',\n",
       " 'Ni',\n",
       " 'Tang',\n",
       " 'Teng',\n",
       " 'Yin',\n",
       " 'Luo',\n",
       " 'Bi',\n",
       " 'Hao',\n",
       " 'Wu',\n",
       " 'An',\n",
       " 'Chang',\n",
       " 'Le',\n",
       " 'Yu',\n",
       " 'Shi',\n",
       " 'Fu',\n",
       " 'Pi',\n",
       " 'Bian',\n",
       " 'Qi',\n",
       " 'Kang',\n",
       " 'Wu',\n",
       " 'Yu',\n",
       " 'Yuan',\n",
       " 'Bo',\n",
       " 'Gu',\n",
       " 'Meng',\n",
       " 'Ping',\n",
       " 'Huang',\n",
       " 'He',\n",
       " 'Mu',\n",
       " 'Xiao',\n",
       " 'Yin',\n",
       " 'Yao',\n",
       " 'Shao',\n",
       " 'Zhan',\n",
       " 'Wang',\n",
       " 'Qi',\n",
       " 'Mao',\n",
       " 'Yu',\n",
       " 'Di',\n",
       " 'Mi',\n",
       " 'Bei',\n",
       " 'Ming',\n",
       " 'Zang',\n",
       " 'Ji',\n",
       " 'Fu',\n",
       " 'Cheng',\n",
       " 'Dai',\n",
       " 'Tan',\n",
       " 'Song',\n",
       " 'Mao',\n",
       " 'Pang',\n",
       " 'Xiong',\n",
       " 'Ji',\n",
       " 'Shu',\n",
       " 'Qu',\n",
       " 'Xiang',\n",
       " 'Zhu',\n",
       " 'Dong',\n",
       " 'Liang',\n",
       " 'Du',\n",
       " 'Ruan',\n",
       " 'Lan',\n",
       " 'Min',\n",
       " 'Xi',\n",
       " 'Ji',\n",
       " 'Ma',\n",
       " 'Qiang',\n",
       " 'Jia',\n",
       " 'Lu',\n",
       " 'Lou',\n",
       " 'Wei',\n",
       " 'Jiang',\n",
       " 'Tong',\n",
       " 'Yan',\n",
       " 'Guo',\n",
       " 'Mei',\n",
       " 'Sheng',\n",
       " 'Lin',\n",
       " 'Diao',\n",
       " 'Zhong',\n",
       " 'Xu',\n",
       " 'Qiu',\n",
       " 'Luo',\n",
       " 'Gao',\n",
       " 'Xia',\n",
       " 'Cai',\n",
       " 'Tian',\n",
       " 'Fan',\n",
       " 'Hu',\n",
       " 'Ling',\n",
       " 'Huo',\n",
       " 'Yu',\n",
       " 'Wan',\n",
       " 'Zhi',\n",
       " 'Ke',\n",
       " 'Zan',\n",
       " 'Guan',\n",
       " 'Lu',\n",
       " 'Mo',\n",
       " 'Jing',\n",
       " 'Fang',\n",
       " 'Qiu',\n",
       " 'Mou',\n",
       " 'Gan',\n",
       " 'Jie',\n",
       " 'Ying',\n",
       " 'Zong',\n",
       " 'Ding',\n",
       " 'Xuan',\n",
       " 'Ben',\n",
       " 'Deng',\n",
       " 'Yu',\n",
       " 'Dan',\n",
       " 'Hang',\n",
       " 'Hong',\n",
       " 'Bao',\n",
       " 'Zhu',\n",
       " 'Zuo',\n",
       " 'Shi',\n",
       " 'Cui',\n",
       " 'Ji',\n",
       " 'Niu',\n",
       " 'Gong',\n",
       " 'Cheng',\n",
       " 'Ji',\n",
       " 'Xing',\n",
       " 'Hua',\n",
       " 'Pei',\n",
       " 'Lu',\n",
       " 'Rong',\n",
       " 'Weng',\n",
       " 'Xun',\n",
       " 'Yang',\n",
       " 'Yu',\n",
       " 'Hui',\n",
       " 'Zhen',\n",
       " 'Qu',\n",
       " 'Jia',\n",
       " 'Feng',\n",
       " 'Rui',\n",
       " 'Yi',\n",
       " 'Chu',\n",
       " 'Jin',\n",
       " 'Ji',\n",
       " 'Bing',\n",
       " 'Mi',\n",
       " 'Song',\n",
       " 'Jing',\n",
       " 'Duan',\n",
       " 'Fu',\n",
       " 'Wu',\n",
       " 'Wu',\n",
       " 'Jiao',\n",
       " 'Ba',\n",
       " 'Gong',\n",
       " 'Mu',\n",
       " 'Kui',\n",
       " 'Shan',\n",
       " 'Gu',\n",
       " 'Che',\n",
       " 'Hou',\n",
       " 'Mi',\n",
       " 'Peng',\n",
       " 'Quan',\n",
       " 'Xi',\n",
       " 'Ban',\n",
       " 'Yang',\n",
       " 'Qiu',\n",
       " 'Zhong',\n",
       " 'Yi',\n",
       " 'Gong',\n",
       " 'Ning',\n",
       " 'Chou',\n",
       " 'Luan',\n",
       " 'Bao',\n",
       " 'Gan',\n",
       " 'Tou',\n",
       " 'Li',\n",
       " 'Rong',\n",
       " 'Zu',\n",
       " 'Wu',\n",
       " 'Fu',\n",
       " 'Liu']"
      ]
     },
     "execution_count": 82,
     "metadata": {},
     "output_type": "execute_result"
    }
   ],
   "source": [
    "name_list"
   ]
  },
  {
   "cell_type": "code",
   "execution_count": 83,
   "id": "4b08122b-be71-4235-8614-627cb63a1a89",
   "metadata": {
    "tags": []
   },
   "outputs": [],
   "source": [
    "names = list(set(name_list))"
   ]
  },
  {
   "cell_type": "code",
   "execution_count": 84,
   "id": "2013b5eb-022d-41b8-99ec-78e206690942",
   "metadata": {
    "tags": []
   },
   "outputs": [
    {
     "name": "stdout",
     "output_type": "stream",
     "text": [
      "252 169\n"
     ]
    }
   ],
   "source": [
    "print(len(name_list), len(names))\n"
   ]
  },
  {
   "cell_type": "code",
   "execution_count": 58,
   "id": "14c0a1d2-7646-4b06-a4e4-efe3bee38663",
   "metadata": {
    "tags": []
   },
   "outputs": [
    {
     "data": {
      "text/plain": [
       "'Yu'"
      ]
     },
     "execution_count": 58,
     "metadata": {},
     "output_type": "execute_result"
    }
   ],
   "source": [
    "import random\n",
    "random.choice(names)"
   ]
  },
  {
   "cell_type": "code",
   "execution_count": 59,
   "id": "c6e81723-fae1-4f3a-ad52-cc58b0eb10d8",
   "metadata": {
    "tags": []
   },
   "outputs": [
    {
     "data": {
      "text/plain": [
       "'Hang'"
      ]
     },
     "execution_count": 59,
     "metadata": {},
     "output_type": "execute_result"
    }
   ],
   "source": [
    "random.choice(names)"
   ]
  },
  {
   "cell_type": "code",
   "execution_count": 60,
   "id": "676f19ba-111e-419a-9bf1-06ece4d99698",
   "metadata": {
    "tags": []
   },
   "outputs": [
    {
     "data": {
      "text/plain": [
       "48"
      ]
     },
     "execution_count": 60,
     "metadata": {},
     "output_type": "execute_result"
    }
   ],
   "source": [
    "random.randint(0, 100)"
   ]
  },
  {
   "cell_type": "code",
   "execution_count": 61,
   "id": "99e17f97-4f46-4fe8-8769-76e07016052d",
   "metadata": {
    "tags": []
   },
   "outputs": [
    {
     "data": {
      "text/plain": [
       "59.01915283290432"
      ]
     },
     "execution_count": 61,
     "metadata": {},
     "output_type": "execute_result"
    }
   ],
   "source": [
    "random.gauss(75, 20)"
   ]
  },
  {
   "cell_type": "code",
   "execution_count": 62,
   "id": "7ebd654c-c5a0-4720-a302-e392a7b127a0",
   "metadata": {
    "tags": []
   },
   "outputs": [
    {
     "data": {
      "text/plain": [
       "[89.82663176385388,\n",
       " 64.01052874409041,\n",
       " 108.0247762851408,\n",
       " 69.37878132947084,\n",
       " 100.73131383538914,\n",
       " 89.23807395133382,\n",
       " 36.90739001849981,\n",
       " 104.56468473358635,\n",
       " 73.85751514753045,\n",
       " 106.29735066011587,\n",
       " 82.51273972677248,\n",
       " 61.626044900083585,\n",
       " 100.81411339453828,\n",
       " 88.51210784459302,\n",
       " 57.39864897556535,\n",
       " 29.727528476325006,\n",
       " 62.40722031049279,\n",
       " 48.70733367250184,\n",
       " 74.27836082168392,\n",
       " 63.26177066058065,\n",
       " 14.58345547693898,\n",
       " 62.73720196533575,\n",
       " 117.31066726595861,\n",
       " 97.7203757950855,\n",
       " 103.72502582851078,\n",
       " 95.27258499393413,\n",
       " 45.534951757852184,\n",
       " 63.492510776902506,\n",
       " 52.86912456369954,\n",
       " 74.25840848622686,\n",
       " 55.459273060798466,\n",
       " 85.2348240919438,\n",
       " 67.01486333958348,\n",
       " 79.2195701145025,\n",
       " 79.57869473442985,\n",
       " 91.4454373575673,\n",
       " 86.72294232200147,\n",
       " 71.3608954695362,\n",
       " 93.17277384519393,\n",
       " 17.880473893658674,\n",
       " 44.385284938126674,\n",
       " 73.75737128637915,\n",
       " 72.28739001478814,\n",
       " 47.72716594604633,\n",
       " 97.38218016268806,\n",
       " 66.23116344603406,\n",
       " 76.40133534509488,\n",
       " 70.69756408506036,\n",
       " 94.55867344750467,\n",
       " 84.9124122056631,\n",
       " 55.02074095145879,\n",
       " 77.59504511806664,\n",
       " 81.47412007132479,\n",
       " 87.49074306934685,\n",
       " 55.72445850060484,\n",
       " 79.04815981684676,\n",
       " 58.920233079238926,\n",
       " 34.147988588464614,\n",
       " 82.86897925540204,\n",
       " 72.96968406065984,\n",
       " 64.66941428942211,\n",
       " 87.68887498730344,\n",
       " 43.14460926261427,\n",
       " 96.45575519741641,\n",
       " 49.015104546375596,\n",
       " 91.91884210190207,\n",
       " 107.1636427798733,\n",
       " 82.26121366301683,\n",
       " 112.57992861026412,\n",
       " 53.71624249252952,\n",
       " 84.21935249197671,\n",
       " 38.06134921685159,\n",
       " 67.09835157433724,\n",
       " 56.80073585416082,\n",
       " 73.43366055544773,\n",
       " 82.96789504896472,\n",
       " 68.28622513103345,\n",
       " 86.27766445610519,\n",
       " 72.52448360804411,\n",
       " 64.139898140729,\n",
       " 76.25654058671925,\n",
       " 74.08253758688187,\n",
       " 71.22953073228273,\n",
       " 54.826920185461084,\n",
       " 45.06706544997407,\n",
       " 66.54945823664046,\n",
       " 77.74993690654055,\n",
       " 73.91242710586961,\n",
       " 51.2776370386921,\n",
       " 29.210786939189,\n",
       " 46.988127596737364,\n",
       " 95.48584033727786,\n",
       " 74.83490660900259,\n",
       " 97.47748131920906,\n",
       " 60.677040612680074,\n",
       " 71.40076295998952,\n",
       " 87.49869721968784,\n",
       " 74.28863277861905,\n",
       " 86.89961645421847,\n",
       " 42.14578911398541]"
      ]
     },
     "execution_count": 62,
     "metadata": {},
     "output_type": "execute_result"
    }
   ],
   "source": [
    "[random.gauss(75, 20) for i in range(0, 100)]"
   ]
  },
  {
   "cell_type": "code",
   "execution_count": 63,
   "id": "feffd766-4bda-45b6-90e6-347ab17d5de1",
   "metadata": {
    "tags": []
   },
   "outputs": [
    {
     "data": {
      "text/plain": [
       "[60,\n",
       " 89,\n",
       " 78,\n",
       " 85,\n",
       " 80,\n",
       " 86,\n",
       " 101,\n",
       " 60,\n",
       " 66,\n",
       " 102,\n",
       " 110,\n",
       " 97,\n",
       " 48,\n",
       " 61,\n",
       " 77,\n",
       " 46,\n",
       " 75,\n",
       " 87,\n",
       " 65,\n",
       " 105,\n",
       " 72,\n",
       " 64,\n",
       " 66,\n",
       " 75,\n",
       " 72,\n",
       " 99,\n",
       " 58,\n",
       " 99,\n",
       " 69,\n",
       " 74,\n",
       " 62,\n",
       " 103,\n",
       " 63,\n",
       " 71,\n",
       " 70,\n",
       " 70,\n",
       " 88,\n",
       " 98,\n",
       " 41,\n",
       " 67,\n",
       " 86,\n",
       " 74,\n",
       " 41,\n",
       " 55,\n",
       " 61,\n",
       " 70,\n",
       " 91,\n",
       " 54,\n",
       " 60,\n",
       " 69,\n",
       " 108,\n",
       " 58,\n",
       " 112,\n",
       " 110,\n",
       " 84,\n",
       " 70,\n",
       " 64,\n",
       " 83,\n",
       " 68,\n",
       " 75,\n",
       " 105,\n",
       " 49,\n",
       " 67,\n",
       " 67,\n",
       " 70,\n",
       " 86,\n",
       " 63,\n",
       " 57,\n",
       " 102,\n",
       " 78,\n",
       " 84,\n",
       " 53,\n",
       " 72,\n",
       " 58,\n",
       " 51,\n",
       " 99,\n",
       " 102,\n",
       " 109,\n",
       " 101,\n",
       " 94,\n",
       " 89,\n",
       " 50,\n",
       " 65,\n",
       " 121,\n",
       " 18,\n",
       " 85,\n",
       " 69,\n",
       " 94,\n",
       " 52,\n",
       " 84,\n",
       " 94,\n",
       " 74,\n",
       " 74,\n",
       " 90,\n",
       " 67,\n",
       " 78,\n",
       " 82,\n",
       " 132,\n",
       " 90,\n",
       " 51]"
      ]
     },
     "execution_count": 63,
     "metadata": {},
     "output_type": "execute_result"
    }
   ],
   "source": [
    "import math\n",
    "\n",
    "[math.ceil(random.gauss(75, 20)) for i in range(0, 100)]"
   ]
  },
  {
   "cell_type": "code",
   "execution_count": 85,
   "id": "7f53299e-43c3-400e-9544-3f824defba7c",
   "metadata": {
    "tags": []
   },
   "outputs": [],
   "source": [
    "score_template = {'physics': None, 'math': None, 'python': None}\n",
    "scores = score_template.copy()\n",
    "\n",
    "score_db = dict()\n",
    "for name in names:\n",
    "    score = math.ceil(random.gauss(75, 20))\n",
    "    if score > 100: score = 100\n",
    "    if score < 0: score = 0\n",
    "    scores['physics'] = score\n",
    "    \n",
    "    score = math.ceil(random.gauss(75, 20))\n",
    "    if score > 100: score = 100\n",
    "    if score < 0: score = 0\n",
    "    scores['math'] = score\n",
    "    \n",
    "    score = math.ceil(random.gauss(75, 20))\n",
    "    if score > 100: score = 100\n",
    "    if score < 0: score = 0\n",
    "    scores['python'] = score\n",
    "    \n",
    "    score_db[name] = scores\n",
    "    \n",
    "    "
   ]
  },
  {
   "cell_type": "code",
   "execution_count": 86,
   "id": "43fee554-0bfe-4e10-9d73-699075f75cb7",
   "metadata": {
    "tags": []
   },
   "outputs": [
    {
     "name": "stdout",
     "output_type": "stream",
     "text": [
      "{'Lan': {'physics': 69, 'math': 86, 'python': 77}, 'Jie': {'physics': 69, 'math': 86, 'python': 77}, 'Shui': {'physics': 69, 'math': 86, 'python': 77}, 'Ming': {'physics': 69, 'math': 86, 'python': 77}, 'Huang': {'physics': 69, 'math': 86, 'python': 77}, 'Ding': {'physics': 69, 'math': 86, 'python': 77}, 'Zhi': {'physics': 69, 'math': 86, 'python': 77}, 'Dou': {'physics': 69, 'math': 86, 'python': 77}, 'Lou': {'physics': 69, 'math': 86, 'python': 77}, 'Fang': {'physics': 69, 'math': 86, 'python': 77}, 'Zhao': {'physics': 69, 'math': 86, 'python': 77}, 'Che': {'physics': 69, 'math': 86, 'python': 77}, 'Lian': {'physics': 69, 'math': 86, 'python': 77}, 'Wu': {'physics': 69, 'math': 86, 'python': 77}, 'Ji': {'physics': 69, 'math': 86, 'python': 77}, 'Tao': {'physics': 69, 'math': 86, 'python': 77}, 'Tan': {'physics': 69, 'math': 86, 'python': 77}, 'Tian': {'physics': 69, 'math': 86, 'python': 77}, 'Hu': {'physics': 69, 'math': 86, 'python': 77}, 'Zhen': {'physics': 69, 'math': 86, 'python': 77}, 'Sun': {'physics': 69, 'math': 86, 'python': 77}, 'Xie': {'physics': 69, 'math': 86, 'python': 77}, 'Cai': {'physics': 69, 'math': 86, 'python': 77}, 'Pang': {'physics': 69, 'math': 86, 'python': 77}, 'Lu': {'physics': 69, 'math': 86, 'python': 77}, 'Han': {'physics': 69, 'math': 86, 'python': 77}, 'Rui': {'physics': 69, 'math': 86, 'python': 77}, 'Lv': {'physics': 69, 'math': 86, 'python': 77}, 'Diao': {'physics': 69, 'math': 86, 'python': 77}, 'Xi': {'physics': 69, 'math': 86, 'python': 77}, 'Ge': {'physics': 69, 'math': 86, 'python': 77}, 'Qin': {'physics': 69, 'math': 86, 'python': 77}, 'Meng': {'physics': 69, 'math': 86, 'python': 77}, 'Lin': {'physics': 69, 'math': 86, 'python': 77}, 'Quan': {'physics': 69, 'math': 86, 'python': 77}, 'Ying': {'physics': 69, 'math': 86, 'python': 77}, 'Duan': {'physics': 69, 'math': 86, 'python': 77}, 'Zhu': {'physics': 69, 'math': 86, 'python': 77}, 'Wei': {'physics': 69, 'math': 86, 'python': 77}, 'Min': {'physics': 69, 'math': 86, 'python': 77}, 'Pi': {'physics': 69, 'math': 86, 'python': 77}, 'Hui': {'physics': 69, 'math': 86, 'python': 77}, 'Peng': {'physics': 69, 'math': 86, 'python': 77}, 'Deng': {'physics': 69, 'math': 86, 'python': 77}, 'Zheng': {'physics': 69, 'math': 86, 'python': 77}, 'Miao': {'physics': 69, 'math': 86, 'python': 77}, 'Cao': {'physics': 69, 'math': 86, 'python': 77}, 'Teng': {'physics': 69, 'math': 86, 'python': 77}, 'Xiong': {'physics': 69, 'math': 86, 'python': 77}, 'Xue': {'physics': 69, 'math': 86, 'python': 77}, 'Hang': {'physics': 69, 'math': 86, 'python': 77}, 'Zhang': {'physics': 69, 'math': 86, 'python': 77}, 'Ling': {'physics': 69, 'math': 86, 'python': 77}, 'Jing': {'physics': 69, 'math': 86, 'python': 77}, 'Tou': {'physics': 69, 'math': 86, 'python': 77}, 'An': {'physics': 69, 'math': 86, 'python': 77}, 'Tong': {'physics': 69, 'math': 86, 'python': 77}, 'Ben': {'physics': 69, 'math': 86, 'python': 77}, 'Ban': {'physics': 69, 'math': 86, 'python': 77}, 'Gan': {'physics': 69, 'math': 86, 'python': 77}, 'Xing': {'physics': 69, 'math': 86, 'python': 77}, 'Le': {'physics': 69, 'math': 86, 'python': 77}, 'Bi': {'physics': 69, 'math': 86, 'python': 77}, 'Chou': {'physics': 69, 'math': 86, 'python': 77}, 'Zhong': {'physics': 69, 'math': 86, 'python': 77}, 'Yun': {'physics': 69, 'math': 86, 'python': 77}, 'Zuo': {'physics': 69, 'math': 86, 'python': 77}, 'Luan': {'physics': 69, 'math': 86, 'python': 77}, 'Du': {'physics': 69, 'math': 86, 'python': 77}, 'Bei': {'physics': 69, 'math': 86, 'python': 77}, 'Yao': {'physics': 69, 'math': 86, 'python': 77}, 'Dai': {'physics': 69, 'math': 86, 'python': 77}, 'Ning': {'physics': 69, 'math': 86, 'python': 77}, 'Cen': {'physics': 69, 'math': 86, 'python': 77}, 'Mou': {'physics': 69, 'math': 86, 'python': 77}, 'Song': {'physics': 69, 'math': 86, 'python': 77}, 'Tang': {'physics': 69, 'math': 86, 'python': 77}, 'Yuan': {'physics': 69, 'math': 86, 'python': 77}, 'Bao': {'physics': 69, 'math': 86, 'python': 77}, 'Dan': {'physics': 69, 'math': 86, 'python': 77}, 'Chu': {'physics': 69, 'math': 86, 'python': 77}, 'Di': {'physics': 69, 'math': 86, 'python': 77}, 'Huo': {'physics': 69, 'math': 86, 'python': 77}, 'He': {'physics': 69, 'math': 86, 'python': 77}, 'Shen': {'physics': 69, 'math': 86, 'python': 77}, 'Hong': {'physics': 69, 'math': 86, 'python': 77}, 'Ni': {'physics': 69, 'math': 86, 'python': 77}, 'Xia': {'physics': 69, 'math': 86, 'python': 77}, 'Gong': {'physics': 69, 'math': 86, 'python': 77}, 'Fei': {'physics': 69, 'math': 86, 'python': 77}, 'Zhan': {'physics': 69, 'math': 86, 'python': 77}, 'Mei': {'physics': 69, 'math': 86, 'python': 77}, 'Lang': {'physics': 69, 'math': 86, 'python': 77}, 'Qi': {'physics': 69, 'math': 86, 'python': 77}, 'Chang': {'physics': 69, 'math': 86, 'python': 77}, 'Qu': {'physics': 69, 'math': 86, 'python': 77}, 'Kui': {'physics': 69, 'math': 86, 'python': 77}, 'Liang': {'physics': 69, 'math': 86, 'python': 77}, 'Xiao': {'physics': 69, 'math': 86, 'python': 77}, 'Shu': {'physics': 69, 'math': 86, 'python': 77}, 'Zan': {'physics': 69, 'math': 86, 'python': 77}, 'Zou': {'physics': 69, 'math': 86, 'python': 77}, 'Gu': {'physics': 69, 'math': 86, 'python': 77}, 'Xuan': {'physics': 69, 'math': 86, 'python': 77}, 'Ping': {'physics': 69, 'math': 86, 'python': 77}, 'Cheng': {'physics': 69, 'math': 86, 'python': 77}, 'Yang': {'physics': 69, 'math': 86, 'python': 77}, 'Yu': {'physics': 69, 'math': 86, 'python': 77}, 'Fan': {'physics': 69, 'math': 86, 'python': 77}, 'Fu': {'physics': 69, 'math': 86, 'python': 77}, 'Qiang': {'physics': 69, 'math': 86, 'python': 77}, 'Luo': {'physics': 69, 'math': 86, 'python': 77}, 'Bian': {'physics': 69, 'math': 86, 'python': 77}, 'You': {'physics': 69, 'math': 86, 'python': 77}, 'Ma': {'physics': 69, 'math': 86, 'python': 77}, 'Pan': {'physics': 69, 'math': 86, 'python': 77}, 'Ruan': {'physics': 69, 'math': 86, 'python': 77}, 'Su': {'physics': 69, 'math': 86, 'python': 77}, 'Qian': {'physics': 69, 'math': 86, 'python': 77}, 'Zang': {'physics': 69, 'math': 86, 'python': 77}, 'Yin': {'physics': 69, 'math': 86, 'python': 77}, 'Sheng': {'physics': 69, 'math': 86, 'python': 77}, 'Ba': {'physics': 69, 'math': 86, 'python': 77}, 'Weng': {'physics': 69, 'math': 86, 'python': 77}, 'Mao': {'physics': 69, 'math': 86, 'python': 77}, 'Ke': {'physics': 69, 'math': 86, 'python': 77}, 'Bo': {'physics': 69, 'math': 86, 'python': 77}, 'Dong': {'physics': 69, 'math': 86, 'python': 77}, 'Mo': {'physics': 69, 'math': 86, 'python': 77}, 'Jia': {'physics': 69, 'math': 86, 'python': 77}, 'Xiang': {'physics': 69, 'math': 86, 'python': 77}, 'Chen': {'physics': 69, 'math': 86, 'python': 77}, 'Yi': {'physics': 69, 'math': 86, 'python': 77}, 'Jin': {'physics': 69, 'math': 86, 'python': 77}, 'Kong': {'physics': 69, 'math': 86, 'python': 77}, 'Mi': {'physics': 69, 'math': 86, 'python': 77}, 'Zu': {'physics': 69, 'math': 86, 'python': 77}, 'Gao': {'physics': 69, 'math': 86, 'python': 77}, 'Zhou': {'physics': 69, 'math': 86, 'python': 77}, 'Yan': {'physics': 69, 'math': 86, 'python': 77}, 'Shi': {'physics': 69, 'math': 86, 'python': 77}, 'Xu': {'physics': 69, 'math': 86, 'python': 77}, 'Lei': {'physics': 69, 'math': 86, 'python': 77}, 'Qiu': {'physics': 69, 'math': 86, 'python': 77}, 'Wan': {'physics': 69, 'math': 86, 'python': 77}, 'Li': {'physics': 69, 'math': 86, 'python': 77}, 'Rong': {'physics': 69, 'math': 86, 'python': 77}, 'Xun': {'physics': 69, 'math': 86, 'python': 77}, 'Cui': {'physics': 69, 'math': 86, 'python': 77}, 'Zong': {'physics': 69, 'math': 86, 'python': 77}, 'Hua': {'physics': 69, 'math': 86, 'python': 77}, 'Niu': {'physics': 69, 'math': 86, 'python': 77}, 'Guo': {'physics': 69, 'math': 86, 'python': 77}, 'Mu': {'physics': 69, 'math': 86, 'python': 77}, 'Wang': {'physics': 69, 'math': 86, 'python': 77}, 'Guan': {'physics': 69, 'math': 86, 'python': 77}, 'Jiao': {'physics': 69, 'math': 86, 'python': 77}, 'Shao': {'physics': 69, 'math': 86, 'python': 77}, 'Hou': {'physics': 69, 'math': 86, 'python': 77}, 'Liu': {'physics': 69, 'math': 86, 'python': 77}, 'Pei': {'physics': 69, 'math': 86, 'python': 77}, 'Jiang': {'physics': 69, 'math': 86, 'python': 77}, 'Kang': {'physics': 69, 'math': 86, 'python': 77}, 'Bing': {'physics': 69, 'math': 86, 'python': 77}, 'Ren': {'physics': 69, 'math': 86, 'python': 77}, 'Feng': {'physics': 69, 'math': 86, 'python': 77}, 'Shan': {'physics': 69, 'math': 86, 'python': 77}, 'Hao': {'physics': 69, 'math': 86, 'python': 77}, 'Bai': {'physics': 69, 'math': 86, 'python': 77}}\n"
     ]
    }
   ],
   "source": [
    "print(score_db)"
   ]
  },
  {
   "cell_type": "code",
   "execution_count": 79,
   "id": "634b4157-f42f-4e65-85cf-00b545117479",
   "metadata": {
    "tags": []
   },
   "outputs": [
    {
     "name": "stdout",
     "output_type": "stream",
     "text": [
      "100\n"
     ]
    }
   ],
   "source": [
    "print(score_db['Cao']['physics'])"
   ]
  },
  {
   "cell_type": "code",
   "execution_count": 87,
   "id": "51034e16-8160-4a85-ab3f-5b576b86bcd0",
   "metadata": {
    "tags": []
   },
   "outputs": [],
   "source": [
    "def get_random_score():\n",
    "    score = math.ceil(random.gauss(75, 20))\n",
    "    if score > 100: score = 100\n",
    "    if score < 0: score = 0\n",
    "    return score\n"
   ]
  },
  {
   "cell_type": "code",
   "execution_count": 95,
   "id": "a24db495-107c-45b2-8808-538b75c01762",
   "metadata": {
    "tags": []
   },
   "outputs": [],
   "source": [
    "score_db = dict()\n",
    "for name in names:\n",
    "    score_db[name] = {'physics': get_random_score(), 'math': get_random_score(), 'python': get_random_score()}\n"
   ]
  },
  {
   "cell_type": "code",
   "execution_count": 97,
   "id": "dfe3a72a-26af-4ba4-96e6-3cd72ee73674",
   "metadata": {
    "tags": []
   },
   "outputs": [],
   "source": [
    "score_db = {name : {'physics': get_random_score(), 'math': get_random_score(), 'python': get_random_score()}\n",
    "           for name in names}"
   ]
  },
  {
   "cell_type": "code",
   "execution_count": 98,
   "id": "f48bc4d1-d387-4687-b805-24d3d07dcebe",
   "metadata": {
    "tags": []
   },
   "outputs": [
    {
     "data": {
      "text/plain": [
       "{'Lan': {'physics': 99, 'math': 61, 'python': 64},\n",
       " 'Jie': {'physics': 89, 'math': 86, 'python': 67},\n",
       " 'Shui': {'physics': 58, 'math': 81, 'python': 68},\n",
       " 'Ming': {'physics': 65, 'math': 100, 'python': 83},\n",
       " 'Huang': {'physics': 48, 'math': 84, 'python': 81},\n",
       " 'Ding': {'physics': 84, 'math': 53, 'python': 71},\n",
       " 'Zhi': {'physics': 96, 'math': 68, 'python': 70},\n",
       " 'Dou': {'physics': 100, 'math': 59, 'python': 98},\n",
       " 'Lou': {'physics': 64, 'math': 92, 'python': 99},\n",
       " 'Fang': {'physics': 78, 'math': 67, 'python': 44},\n",
       " 'Zhao': {'physics': 75, 'math': 82, 'python': 100},\n",
       " 'Che': {'physics': 80, 'math': 81, 'python': 34},\n",
       " 'Lian': {'physics': 86, 'math': 100, 'python': 68},\n",
       " 'Wu': {'physics': 86, 'math': 46, 'python': 54},\n",
       " 'Ji': {'physics': 100, 'math': 48, 'python': 80},\n",
       " 'Tao': {'physics': 72, 'math': 75, 'python': 39},\n",
       " 'Tan': {'physics': 100, 'math': 98, 'python': 69},\n",
       " 'Tian': {'physics': 37, 'math': 98, 'python': 66},\n",
       " 'Hu': {'physics': 88, 'math': 76, 'python': 77},\n",
       " 'Zhen': {'physics': 65, 'math': 100, 'python': 92},\n",
       " 'Sun': {'physics': 91, 'math': 77, 'python': 80},\n",
       " 'Xie': {'physics': 91, 'math': 63, 'python': 72},\n",
       " 'Cai': {'physics': 52, 'math': 63, 'python': 82},\n",
       " 'Pang': {'physics': 87, 'math': 100, 'python': 68},\n",
       " 'Lu': {'physics': 71, 'math': 95, 'python': 97},\n",
       " 'Han': {'physics': 69, 'math': 65, 'python': 61},\n",
       " 'Rui': {'physics': 85, 'math': 100, 'python': 61},\n",
       " 'Lv': {'physics': 35, 'math': 100, 'python': 76},\n",
       " 'Diao': {'physics': 95, 'math': 87, 'python': 77},\n",
       " 'Xi': {'physics': 48, 'math': 76, 'python': 69},\n",
       " 'Ge': {'physics': 71, 'math': 52, 'python': 88},\n",
       " 'Qin': {'physics': 75, 'math': 98, 'python': 68},\n",
       " 'Meng': {'physics': 71, 'math': 76, 'python': 100},\n",
       " 'Lin': {'physics': 56, 'math': 61, 'python': 43},\n",
       " 'Quan': {'physics': 54, 'math': 100, 'python': 96},\n",
       " 'Ying': {'physics': 100, 'math': 71, 'python': 64},\n",
       " 'Duan': {'physics': 100, 'math': 81, 'python': 93},\n",
       " 'Zhu': {'physics': 100, 'math': 100, 'python': 43},\n",
       " 'Wei': {'physics': 87, 'math': 65, 'python': 88},\n",
       " 'Min': {'physics': 100, 'math': 57, 'python': 86},\n",
       " 'Pi': {'physics': 100, 'math': 50, 'python': 100},\n",
       " 'Hui': {'physics': 74, 'math': 49, 'python': 97},\n",
       " 'Peng': {'physics': 76, 'math': 63, 'python': 50},\n",
       " 'Deng': {'physics': 90, 'math': 18, 'python': 64},\n",
       " 'Zheng': {'physics': 90, 'math': 100, 'python': 40},\n",
       " 'Miao': {'physics': 89, 'math': 46, 'python': 90},\n",
       " 'Cao': {'physics': 92, 'math': 75, 'python': 90},\n",
       " 'Teng': {'physics': 94, 'math': 59, 'python': 95},\n",
       " 'Xiong': {'physics': 21, 'math': 57, 'python': 67},\n",
       " 'Xue': {'physics': 16, 'math': 75, 'python': 86},\n",
       " 'Hang': {'physics': 52, 'math': 76, 'python': 84},\n",
       " 'Zhang': {'physics': 41, 'math': 84, 'python': 61},\n",
       " 'Ling': {'physics': 95, 'math': 81, 'python': 85},\n",
       " 'Jing': {'physics': 81, 'math': 80, 'python': 66},\n",
       " 'Tou': {'physics': 78, 'math': 78, 'python': 100},\n",
       " 'An': {'physics': 46, 'math': 64, 'python': 89},\n",
       " 'Tong': {'physics': 84, 'math': 83, 'python': 82},\n",
       " 'Ben': {'physics': 75, 'math': 73, 'python': 100},\n",
       " 'Ban': {'physics': 78, 'math': 84, 'python': 96},\n",
       " 'Gan': {'physics': 85, 'math': 78, 'python': 100},\n",
       " 'Xing': {'physics': 100, 'math': 95, 'python': 71},\n",
       " 'Le': {'physics': 77, 'math': 82, 'python': 47},\n",
       " 'Bi': {'physics': 71, 'math': 89, 'python': 91},\n",
       " 'Chou': {'physics': 68, 'math': 67, 'python': 100},\n",
       " 'Zhong': {'physics': 43, 'math': 100, 'python': 72},\n",
       " 'Yun': {'physics': 99, 'math': 59, 'python': 64},\n",
       " 'Zuo': {'physics': 89, 'math': 96, 'python': 89},\n",
       " 'Luan': {'physics': 88, 'math': 64, 'python': 67},\n",
       " 'Du': {'physics': 61, 'math': 85, 'python': 81},\n",
       " 'Bei': {'physics': 85, 'math': 69, 'python': 69},\n",
       " 'Yao': {'physics': 98, 'math': 59, 'python': 97},\n",
       " 'Dai': {'physics': 94, 'math': 71, 'python': 99},\n",
       " 'Ning': {'physics': 95, 'math': 82, 'python': 67},\n",
       " 'Cen': {'physics': 94, 'math': 95, 'python': 56},\n",
       " 'Mou': {'physics': 78, 'math': 91, 'python': 53},\n",
       " 'Song': {'physics': 54, 'math': 98, 'python': 57},\n",
       " 'Tang': {'physics': 83, 'math': 96, 'python': 55},\n",
       " 'Yuan': {'physics': 74, 'math': 89, 'python': 70},\n",
       " 'Bao': {'physics': 98, 'math': 92, 'python': 77},\n",
       " 'Dan': {'physics': 100, 'math': 68, 'python': 67},\n",
       " 'Chu': {'physics': 70, 'math': 81, 'python': 65},\n",
       " 'Di': {'physics': 82, 'math': 19, 'python': 33},\n",
       " 'Huo': {'physics': 100, 'math': 84, 'python': 100},\n",
       " 'He': {'physics': 86, 'math': 97, 'python': 48},\n",
       " 'Shen': {'physics': 74, 'math': 39, 'python': 100},\n",
       " 'Hong': {'physics': 76, 'math': 100, 'python': 80},\n",
       " 'Ni': {'physics': 96, 'math': 92, 'python': 85},\n",
       " 'Xia': {'physics': 75, 'math': 83, 'python': 37},\n",
       " 'Gong': {'physics': 76, 'math': 56, 'python': 93},\n",
       " 'Fei': {'physics': 85, 'math': 67, 'python': 85},\n",
       " 'Zhan': {'physics': 70, 'math': 56, 'python': 62},\n",
       " 'Mei': {'physics': 66, 'math': 65, 'python': 62},\n",
       " 'Lang': {'physics': 87, 'math': 57, 'python': 69},\n",
       " 'Qi': {'physics': 73, 'math': 70, 'python': 73},\n",
       " 'Chang': {'physics': 92, 'math': 52, 'python': 73},\n",
       " 'Qu': {'physics': 23, 'math': 100, 'python': 49},\n",
       " 'Kui': {'physics': 83, 'math': 76, 'python': 80},\n",
       " 'Liang': {'physics': 69, 'math': 96, 'python': 82},\n",
       " 'Xiao': {'physics': 89, 'math': 64, 'python': 100},\n",
       " 'Shu': {'physics': 72, 'math': 86, 'python': 53},\n",
       " 'Zan': {'physics': 100, 'math': 57, 'python': 88},\n",
       " 'Zou': {'physics': 61, 'math': 66, 'python': 66},\n",
       " 'Gu': {'physics': 65, 'math': 45, 'python': 92},\n",
       " 'Xuan': {'physics': 58, 'math': 54, 'python': 100},\n",
       " 'Ping': {'physics': 54, 'math': 89, 'python': 68},\n",
       " 'Cheng': {'physics': 100, 'math': 81, 'python': 77},\n",
       " 'Yang': {'physics': 56, 'math': 84, 'python': 82},\n",
       " 'Yu': {'physics': 85, 'math': 97, 'python': 65},\n",
       " 'Fan': {'physics': 33, 'math': 77, 'python': 79},\n",
       " 'Fu': {'physics': 100, 'math': 76, 'python': 100},\n",
       " 'Qiang': {'physics': 100, 'math': 52, 'python': 94},\n",
       " 'Luo': {'physics': 84, 'math': 85, 'python': 65},\n",
       " 'Bian': {'physics': 56, 'math': 91, 'python': 71},\n",
       " 'You': {'physics': 68, 'math': 90, 'python': 100},\n",
       " 'Ma': {'physics': 81, 'math': 72, 'python': 54},\n",
       " 'Pan': {'physics': 64, 'math': 71, 'python': 73},\n",
       " 'Ruan': {'physics': 74, 'math': 88, 'python': 57},\n",
       " 'Su': {'physics': 100, 'math': 78, 'python': 80},\n",
       " 'Qian': {'physics': 98, 'math': 73, 'python': 88},\n",
       " 'Zang': {'physics': 49, 'math': 79, 'python': 58},\n",
       " 'Yin': {'physics': 78, 'math': 100, 'python': 73},\n",
       " 'Sheng': {'physics': 61, 'math': 91, 'python': 100},\n",
       " 'Ba': {'physics': 73, 'math': 88, 'python': 100},\n",
       " 'Weng': {'physics': 67, 'math': 55, 'python': 97},\n",
       " 'Mao': {'physics': 85, 'math': 38, 'python': 100},\n",
       " 'Ke': {'physics': 63, 'math': 83, 'python': 39},\n",
       " 'Bo': {'physics': 100, 'math': 86, 'python': 60},\n",
       " 'Dong': {'physics': 69, 'math': 57, 'python': 48},\n",
       " 'Mo': {'physics': 82, 'math': 58, 'python': 92},\n",
       " 'Jia': {'physics': 48, 'math': 100, 'python': 78},\n",
       " 'Xiang': {'physics': 80, 'math': 35, 'python': 84},\n",
       " 'Chen': {'physics': 82, 'math': 82, 'python': 100},\n",
       " 'Yi': {'physics': 48, 'math': 70, 'python': 61},\n",
       " 'Jin': {'physics': 66, 'math': 53, 'python': 28},\n",
       " 'Kong': {'physics': 100, 'math': 90, 'python': 42},\n",
       " 'Mi': {'physics': 72, 'math': 60, 'python': 81},\n",
       " 'Zu': {'physics': 62, 'math': 79, 'python': 88},\n",
       " 'Gao': {'physics': 92, 'math': 93, 'python': 80},\n",
       " 'Zhou': {'physics': 63, 'math': 83, 'python': 64},\n",
       " 'Yan': {'physics': 65, 'math': 79, 'python': 41},\n",
       " 'Shi': {'physics': 50, 'math': 91, 'python': 100},\n",
       " 'Xu': {'physics': 85, 'math': 64, 'python': 85},\n",
       " 'Lei': {'physics': 86, 'math': 84, 'python': 29},\n",
       " 'Qiu': {'physics': 78, 'math': 48, 'python': 92},\n",
       " 'Wan': {'physics': 71, 'math': 50, 'python': 56},\n",
       " 'Li': {'physics': 84, 'math': 33, 'python': 56},\n",
       " 'Rong': {'physics': 31, 'math': 86, 'python': 87},\n",
       " 'Xun': {'physics': 45, 'math': 65, 'python': 48},\n",
       " 'Cui': {'physics': 56, 'math': 56, 'python': 100},\n",
       " 'Zong': {'physics': 92, 'math': 54, 'python': 63},\n",
       " 'Hua': {'physics': 100, 'math': 97, 'python': 70},\n",
       " 'Niu': {'physics': 77, 'math': 85, 'python': 61},\n",
       " 'Guo': {'physics': 95, 'math': 87, 'python': 67},\n",
       " 'Mu': {'physics': 100, 'math': 53, 'python': 81},\n",
       " 'Wang': {'physics': 72, 'math': 66, 'python': 86},\n",
       " 'Guan': {'physics': 97, 'math': 45, 'python': 100},\n",
       " 'Jiao': {'physics': 93, 'math': 79, 'python': 100},\n",
       " 'Shao': {'physics': 81, 'math': 72, 'python': 70},\n",
       " 'Hou': {'physics': 63, 'math': 61, 'python': 81},\n",
       " 'Liu': {'physics': 60, 'math': 70, 'python': 50},\n",
       " 'Pei': {'physics': 56, 'math': 100, 'python': 77},\n",
       " 'Jiang': {'physics': 90, 'math': 78, 'python': 71},\n",
       " 'Kang': {'physics': 65, 'math': 57, 'python': 71},\n",
       " 'Bing': {'physics': 77, 'math': 65, 'python': 73},\n",
       " 'Ren': {'physics': 43, 'math': 100, 'python': 90},\n",
       " 'Feng': {'physics': 72, 'math': 87, 'python': 75},\n",
       " 'Shan': {'physics': 59, 'math': 49, 'python': 83},\n",
       " 'Hao': {'physics': 82, 'math': 76, 'python': 97},\n",
       " 'Bai': {'physics': 70, 'math': 51, 'python': 69}}"
      ]
     },
     "execution_count": 98,
     "metadata": {},
     "output_type": "execute_result"
    }
   ],
   "source": [
    "score_db"
   ]
  },
  {
   "cell_type": "code",
   "execution_count": 100,
   "id": "520f9748-986c-4816-b21d-8d871ea9e677",
   "metadata": {
    "tags": []
   },
   "outputs": [
    {
     "name": "stdin",
     "output_type": "stream",
     "text": [
      "please input a name:  Dan\n"
     ]
    },
    {
     "name": "stdout",
     "output_type": "stream",
     "text": [
      "Physics: 100\n",
      "Math: 68\n",
      "Ptython: 67\n",
      "Total:235\n"
     ]
    }
   ],
   "source": [
    "name = input('please input a name: ')\n",
    "print(f\"Physics: {score_db[name]['physics']}\")\n",
    "print(f\"Math: {score_db[name]['math']}\")\n",
    "print(f\"Ptython: {score_db[name]['python']}\")\n",
    "print(f\"Total:{score_db[name]['physics'] + score_db[name]['math'] + score_db[name]['python']}\")"
   ]
  },
  {
   "cell_type": "code",
   "execution_count": 101,
   "id": "c0ecc8c8-8688-4454-bf6c-fb6a03b70fba",
   "metadata": {
    "tags": []
   },
   "outputs": [],
   "source": [
    "import json\n",
    "\n",
    "with open('d:\\\\score_db.json', 'w') as f:\n",
    "    json.dump(score_db, f)"
   ]
  },
  {
   "cell_type": "code",
   "execution_count": 102,
   "id": "61260f28-69e9-46b2-ad1a-43a3d86fa9e4",
   "metadata": {
    "tags": []
   },
   "outputs": [],
   "source": [
    "import json\n",
    "\n",
    "with open('d:\\\\score_db.json') as f:\n",
    "    score_db = json.load(f)"
   ]
  },
  {
   "cell_type": "code",
   "execution_count": 103,
   "id": "d8497d9c-8223-452a-bcc3-14462c56ee3c",
   "metadata": {
    "tags": []
   },
   "outputs": [
    {
     "data": {
      "text/plain": [
       "{'Lan': {'physics': 99, 'math': 61, 'python': 64},\n",
       " 'Jie': {'physics': 89, 'math': 86, 'python': 67},\n",
       " 'Shui': {'physics': 58, 'math': 81, 'python': 68},\n",
       " 'Ming': {'physics': 65, 'math': 100, 'python': 83},\n",
       " 'Huang': {'physics': 48, 'math': 84, 'python': 81},\n",
       " 'Ding': {'physics': 84, 'math': 53, 'python': 71},\n",
       " 'Zhi': {'physics': 96, 'math': 68, 'python': 70},\n",
       " 'Dou': {'physics': 100, 'math': 59, 'python': 98},\n",
       " 'Lou': {'physics': 64, 'math': 92, 'python': 99},\n",
       " 'Fang': {'physics': 78, 'math': 67, 'python': 44},\n",
       " 'Zhao': {'physics': 75, 'math': 82, 'python': 100},\n",
       " 'Che': {'physics': 80, 'math': 81, 'python': 34},\n",
       " 'Lian': {'physics': 86, 'math': 100, 'python': 68},\n",
       " 'Wu': {'physics': 86, 'math': 46, 'python': 54},\n",
       " 'Ji': {'physics': 100, 'math': 48, 'python': 80},\n",
       " 'Tao': {'physics': 72, 'math': 75, 'python': 39},\n",
       " 'Tan': {'physics': 100, 'math': 98, 'python': 69},\n",
       " 'Tian': {'physics': 37, 'math': 98, 'python': 66},\n",
       " 'Hu': {'physics': 88, 'math': 76, 'python': 77},\n",
       " 'Zhen': {'physics': 65, 'math': 100, 'python': 92},\n",
       " 'Sun': {'physics': 91, 'math': 77, 'python': 80},\n",
       " 'Xie': {'physics': 91, 'math': 63, 'python': 72},\n",
       " 'Cai': {'physics': 52, 'math': 63, 'python': 82},\n",
       " 'Pang': {'physics': 87, 'math': 100, 'python': 68},\n",
       " 'Lu': {'physics': 71, 'math': 95, 'python': 97},\n",
       " 'Han': {'physics': 69, 'math': 65, 'python': 61},\n",
       " 'Rui': {'physics': 85, 'math': 100, 'python': 61},\n",
       " 'Lv': {'physics': 35, 'math': 100, 'python': 76},\n",
       " 'Diao': {'physics': 95, 'math': 87, 'python': 77},\n",
       " 'Xi': {'physics': 48, 'math': 76, 'python': 69},\n",
       " 'Ge': {'physics': 71, 'math': 52, 'python': 88},\n",
       " 'Qin': {'physics': 75, 'math': 98, 'python': 68},\n",
       " 'Meng': {'physics': 71, 'math': 76, 'python': 100},\n",
       " 'Lin': {'physics': 56, 'math': 61, 'python': 43},\n",
       " 'Quan': {'physics': 54, 'math': 100, 'python': 96},\n",
       " 'Ying': {'physics': 100, 'math': 71, 'python': 64},\n",
       " 'Duan': {'physics': 100, 'math': 81, 'python': 93},\n",
       " 'Zhu': {'physics': 100, 'math': 100, 'python': 43},\n",
       " 'Wei': {'physics': 87, 'math': 65, 'python': 88},\n",
       " 'Min': {'physics': 100, 'math': 57, 'python': 86},\n",
       " 'Pi': {'physics': 100, 'math': 50, 'python': 100},\n",
       " 'Hui': {'physics': 74, 'math': 49, 'python': 97},\n",
       " 'Peng': {'physics': 76, 'math': 63, 'python': 50},\n",
       " 'Deng': {'physics': 90, 'math': 18, 'python': 64},\n",
       " 'Zheng': {'physics': 90, 'math': 100, 'python': 40},\n",
       " 'Miao': {'physics': 89, 'math': 46, 'python': 90},\n",
       " 'Cao': {'physics': 92, 'math': 75, 'python': 90},\n",
       " 'Teng': {'physics': 94, 'math': 59, 'python': 95},\n",
       " 'Xiong': {'physics': 21, 'math': 57, 'python': 67},\n",
       " 'Xue': {'physics': 16, 'math': 75, 'python': 86},\n",
       " 'Hang': {'physics': 52, 'math': 76, 'python': 84},\n",
       " 'Zhang': {'physics': 41, 'math': 84, 'python': 61},\n",
       " 'Ling': {'physics': 95, 'math': 81, 'python': 85},\n",
       " 'Jing': {'physics': 81, 'math': 80, 'python': 66},\n",
       " 'Tou': {'physics': 78, 'math': 78, 'python': 100},\n",
       " 'An': {'physics': 46, 'math': 64, 'python': 89},\n",
       " 'Tong': {'physics': 84, 'math': 83, 'python': 82},\n",
       " 'Ben': {'physics': 75, 'math': 73, 'python': 100},\n",
       " 'Ban': {'physics': 78, 'math': 84, 'python': 96},\n",
       " 'Gan': {'physics': 85, 'math': 78, 'python': 100},\n",
       " 'Xing': {'physics': 100, 'math': 95, 'python': 71},\n",
       " 'Le': {'physics': 77, 'math': 82, 'python': 47},\n",
       " 'Bi': {'physics': 71, 'math': 89, 'python': 91},\n",
       " 'Chou': {'physics': 68, 'math': 67, 'python': 100},\n",
       " 'Zhong': {'physics': 43, 'math': 100, 'python': 72},\n",
       " 'Yun': {'physics': 99, 'math': 59, 'python': 64},\n",
       " 'Zuo': {'physics': 89, 'math': 96, 'python': 89},\n",
       " 'Luan': {'physics': 88, 'math': 64, 'python': 67},\n",
       " 'Du': {'physics': 61, 'math': 85, 'python': 81},\n",
       " 'Bei': {'physics': 85, 'math': 69, 'python': 69},\n",
       " 'Yao': {'physics': 98, 'math': 59, 'python': 97},\n",
       " 'Dai': {'physics': 94, 'math': 71, 'python': 99},\n",
       " 'Ning': {'physics': 95, 'math': 82, 'python': 67},\n",
       " 'Cen': {'physics': 94, 'math': 95, 'python': 56},\n",
       " 'Mou': {'physics': 78, 'math': 91, 'python': 53},\n",
       " 'Song': {'physics': 54, 'math': 98, 'python': 57},\n",
       " 'Tang': {'physics': 83, 'math': 96, 'python': 55},\n",
       " 'Yuan': {'physics': 74, 'math': 89, 'python': 70},\n",
       " 'Bao': {'physics': 98, 'math': 92, 'python': 77},\n",
       " 'Dan': {'physics': 100, 'math': 68, 'python': 67},\n",
       " 'Chu': {'physics': 70, 'math': 81, 'python': 65},\n",
       " 'Di': {'physics': 82, 'math': 19, 'python': 33},\n",
       " 'Huo': {'physics': 100, 'math': 84, 'python': 100},\n",
       " 'He': {'physics': 86, 'math': 97, 'python': 48},\n",
       " 'Shen': {'physics': 74, 'math': 39, 'python': 100},\n",
       " 'Hong': {'physics': 76, 'math': 100, 'python': 80},\n",
       " 'Ni': {'physics': 96, 'math': 92, 'python': 85},\n",
       " 'Xia': {'physics': 75, 'math': 83, 'python': 37},\n",
       " 'Gong': {'physics': 76, 'math': 56, 'python': 93},\n",
       " 'Fei': {'physics': 85, 'math': 67, 'python': 85},\n",
       " 'Zhan': {'physics': 70, 'math': 56, 'python': 62},\n",
       " 'Mei': {'physics': 66, 'math': 65, 'python': 62},\n",
       " 'Lang': {'physics': 87, 'math': 57, 'python': 69},\n",
       " 'Qi': {'physics': 73, 'math': 70, 'python': 73},\n",
       " 'Chang': {'physics': 92, 'math': 52, 'python': 73},\n",
       " 'Qu': {'physics': 23, 'math': 100, 'python': 49},\n",
       " 'Kui': {'physics': 83, 'math': 76, 'python': 80},\n",
       " 'Liang': {'physics': 69, 'math': 96, 'python': 82},\n",
       " 'Xiao': {'physics': 89, 'math': 64, 'python': 100},\n",
       " 'Shu': {'physics': 72, 'math': 86, 'python': 53},\n",
       " 'Zan': {'physics': 100, 'math': 57, 'python': 88},\n",
       " 'Zou': {'physics': 61, 'math': 66, 'python': 66},\n",
       " 'Gu': {'physics': 65, 'math': 45, 'python': 92},\n",
       " 'Xuan': {'physics': 58, 'math': 54, 'python': 100},\n",
       " 'Ping': {'physics': 54, 'math': 89, 'python': 68},\n",
       " 'Cheng': {'physics': 100, 'math': 81, 'python': 77},\n",
       " 'Yang': {'physics': 56, 'math': 84, 'python': 82},\n",
       " 'Yu': {'physics': 85, 'math': 97, 'python': 65},\n",
       " 'Fan': {'physics': 33, 'math': 77, 'python': 79},\n",
       " 'Fu': {'physics': 100, 'math': 76, 'python': 100},\n",
       " 'Qiang': {'physics': 100, 'math': 52, 'python': 94},\n",
       " 'Luo': {'physics': 84, 'math': 85, 'python': 65},\n",
       " 'Bian': {'physics': 56, 'math': 91, 'python': 71},\n",
       " 'You': {'physics': 68, 'math': 90, 'python': 100},\n",
       " 'Ma': {'physics': 81, 'math': 72, 'python': 54},\n",
       " 'Pan': {'physics': 64, 'math': 71, 'python': 73},\n",
       " 'Ruan': {'physics': 74, 'math': 88, 'python': 57},\n",
       " 'Su': {'physics': 100, 'math': 78, 'python': 80},\n",
       " 'Qian': {'physics': 98, 'math': 73, 'python': 88},\n",
       " 'Zang': {'physics': 49, 'math': 79, 'python': 58},\n",
       " 'Yin': {'physics': 78, 'math': 100, 'python': 73},\n",
       " 'Sheng': {'physics': 61, 'math': 91, 'python': 100},\n",
       " 'Ba': {'physics': 73, 'math': 88, 'python': 100},\n",
       " 'Weng': {'physics': 67, 'math': 55, 'python': 97},\n",
       " 'Mao': {'physics': 85, 'math': 38, 'python': 100},\n",
       " 'Ke': {'physics': 63, 'math': 83, 'python': 39},\n",
       " 'Bo': {'physics': 100, 'math': 86, 'python': 60},\n",
       " 'Dong': {'physics': 69, 'math': 57, 'python': 48},\n",
       " 'Mo': {'physics': 82, 'math': 58, 'python': 92},\n",
       " 'Jia': {'physics': 48, 'math': 100, 'python': 78},\n",
       " 'Xiang': {'physics': 80, 'math': 35, 'python': 84},\n",
       " 'Chen': {'physics': 82, 'math': 82, 'python': 100},\n",
       " 'Yi': {'physics': 48, 'math': 70, 'python': 61},\n",
       " 'Jin': {'physics': 66, 'math': 53, 'python': 28},\n",
       " 'Kong': {'physics': 100, 'math': 90, 'python': 42},\n",
       " 'Mi': {'physics': 72, 'math': 60, 'python': 81},\n",
       " 'Zu': {'physics': 62, 'math': 79, 'python': 88},\n",
       " 'Gao': {'physics': 92, 'math': 93, 'python': 80},\n",
       " 'Zhou': {'physics': 63, 'math': 83, 'python': 64},\n",
       " 'Yan': {'physics': 65, 'math': 79, 'python': 41},\n",
       " 'Shi': {'physics': 50, 'math': 91, 'python': 100},\n",
       " 'Xu': {'physics': 85, 'math': 64, 'python': 85},\n",
       " 'Lei': {'physics': 86, 'math': 84, 'python': 29},\n",
       " 'Qiu': {'physics': 78, 'math': 48, 'python': 92},\n",
       " 'Wan': {'physics': 71, 'math': 50, 'python': 56},\n",
       " 'Li': {'physics': 84, 'math': 33, 'python': 56},\n",
       " 'Rong': {'physics': 31, 'math': 86, 'python': 87},\n",
       " 'Xun': {'physics': 45, 'math': 65, 'python': 48},\n",
       " 'Cui': {'physics': 56, 'math': 56, 'python': 100},\n",
       " 'Zong': {'physics': 92, 'math': 54, 'python': 63},\n",
       " 'Hua': {'physics': 100, 'math': 97, 'python': 70},\n",
       " 'Niu': {'physics': 77, 'math': 85, 'python': 61},\n",
       " 'Guo': {'physics': 95, 'math': 87, 'python': 67},\n",
       " 'Mu': {'physics': 100, 'math': 53, 'python': 81},\n",
       " 'Wang': {'physics': 72, 'math': 66, 'python': 86},\n",
       " 'Guan': {'physics': 97, 'math': 45, 'python': 100},\n",
       " 'Jiao': {'physics': 93, 'math': 79, 'python': 100},\n",
       " 'Shao': {'physics': 81, 'math': 72, 'python': 70},\n",
       " 'Hou': {'physics': 63, 'math': 61, 'python': 81},\n",
       " 'Liu': {'physics': 60, 'math': 70, 'python': 50},\n",
       " 'Pei': {'physics': 56, 'math': 100, 'python': 77},\n",
       " 'Jiang': {'physics': 90, 'math': 78, 'python': 71},\n",
       " 'Kang': {'physics': 65, 'math': 57, 'python': 71},\n",
       " 'Bing': {'physics': 77, 'math': 65, 'python': 73},\n",
       " 'Ren': {'physics': 43, 'math': 100, 'python': 90},\n",
       " 'Feng': {'physics': 72, 'math': 87, 'python': 75},\n",
       " 'Shan': {'physics': 59, 'math': 49, 'python': 83},\n",
       " 'Hao': {'physics': 82, 'math': 76, 'python': 97},\n",
       " 'Bai': {'physics': 70, 'math': 51, 'python': 69}}"
      ]
     },
     "execution_count": 103,
     "metadata": {},
     "output_type": "execute_result"
    }
   ],
   "source": [
    "score_db"
   ]
  },
  {
   "cell_type": "code",
   "execution_count": 104,
   "id": "d06fd155-9adc-453a-a9cc-f896bb439868",
   "metadata": {
    "tags": []
   },
   "outputs": [
    {
     "data": {
      "text/plain": [
       "{'a': 1, 'b': 0}"
      ]
     },
     "execution_count": 104,
     "metadata": {},
     "output_type": "execute_result"
    }
   ],
   "source": [
    "d = dict()\n",
    "d['a'] = 1\n",
    "d.setdefault('a', 0)\n",
    "d.setdefault('b', 0)\n",
    "\n",
    "d"
   ]
  },
  {
   "cell_type": "code",
   "execution_count": 105,
   "id": "a9bb42f6-bd40-4b95-9c84-4b90bc2fb6aa",
   "metadata": {
    "tags": []
   },
   "outputs": [],
   "source": [
    "text = '''\n",
    "Google today released the open source version of the differential privacy library used in some its core products, such as Google Maps. Any organization or developer can now check out the library on GitHub.\n",
    "\n",
    "Differential privacy limits the algorithms used to publish aggregate information about a statistical database. Whether you are a city planner, small business owner, or software developer, chances are you want to gain insights from the data of your citizens, customers, or users. But you don’t want to lose their trust in the process. Differentially private data analysis enables organizations to learn from the majority of their data without allowing any single individual’s data to be distinguished or re-identified.\n",
    "\n",
    "“If you are a health researcher, you may want to compare the average amount of time patients remain admitted across various hospitals in order to determine if there are differences in care,” Google product manager Miguel Guevara explains. “Differential privacy is a high-assurance, analytic means of ensuring that use cases like this are addressed in a privacy-preserving manner.”\n",
    "Differential privacy library features\n",
    "\n",
    "Google promises its library is easy for developers to deploy. It can help you perform functions that are difficult to execute from scratch, “like automatically calculating bounds on user contributions,” Guevera says. Key features include:\n",
    "\n",
    "    Statistical functions: Most common data science operations (counts, sums, averages, medians, and percentiles) are supported.\n",
    "    Rigorous testing: Besides an extensive test suite, an extensible “Stochastic Differential Privacy Model Checker library” helps prevent mistakes.\n",
    "    Ready to use: A PostgreSQL extension, along with common recipes, is included.\n",
    "    Modular: The library can be extended to include other functionalities, such as additional mechanisms, aggregation functions, or privacy budget management.\n",
    "\n",
    "This isn’t Google’s first differential privacy rodeo, but the company has been particularly busy in the space this year. In March, Google released TensorFlow Privacy and TensorFlow Federated. In June, the company open-sourced Private Join and Compute, which gives companies data insights while preserving privacy. To learn more about Google’s approach, check out the team’s technical paper on arXiv.\n",
    "'''"
   ]
  },
  {
   "cell_type": "code",
   "execution_count": 109,
   "id": "7cb6553f-1452-4009-a711-df13f1973ab3",
   "metadata": {
    "tags": []
   },
   "outputs": [],
   "source": [
    "text = text.lower()\n",
    "for sep in '\\n\\n.,\"\\',“”()':\n",
    "    text = text.replace(sep, ' ')\n",
    "    \n",
    "words = text.split(' ')\n",
    "words = [word for word in words if word != '']"
   ]
  },
  {
   "cell_type": "code",
   "execution_count": 110,
   "id": "fa0a362c-6e30-43b7-8048-18916f04ca41",
   "metadata": {
    "tags": []
   },
   "outputs": [
    {
     "data": {
      "text/plain": [
       "['google',\n",
       " 'today',\n",
       " 'released',\n",
       " 'the',\n",
       " 'open',\n",
       " 'source',\n",
       " 'version',\n",
       " 'of',\n",
       " 'the',\n",
       " 'differential',\n",
       " 'privacy',\n",
       " 'library',\n",
       " 'used',\n",
       " 'in',\n",
       " 'some',\n",
       " 'its',\n",
       " 'core',\n",
       " 'products',\n",
       " 'such',\n",
       " 'as',\n",
       " 'google',\n",
       " 'maps',\n",
       " 'any',\n",
       " 'organization',\n",
       " 'or',\n",
       " 'developer',\n",
       " 'can',\n",
       " 'now',\n",
       " 'check',\n",
       " 'out',\n",
       " 'the',\n",
       " 'library',\n",
       " 'on',\n",
       " 'github',\n",
       " 'differential',\n",
       " 'privacy',\n",
       " 'limits',\n",
       " 'the',\n",
       " 'algorithms',\n",
       " 'used',\n",
       " 'to',\n",
       " 'publish',\n",
       " 'aggregate',\n",
       " 'information',\n",
       " 'about',\n",
       " 'a',\n",
       " 'statistical',\n",
       " 'database',\n",
       " 'whether',\n",
       " 'you',\n",
       " 'are',\n",
       " 'a',\n",
       " 'city',\n",
       " 'planner',\n",
       " 'small',\n",
       " 'business',\n",
       " 'owner',\n",
       " 'or',\n",
       " 'software',\n",
       " 'developer',\n",
       " 'chances',\n",
       " 'are',\n",
       " 'you',\n",
       " 'want',\n",
       " 'to',\n",
       " 'gain',\n",
       " 'insights',\n",
       " 'from',\n",
       " 'the',\n",
       " 'data',\n",
       " 'of',\n",
       " 'your',\n",
       " 'citizens',\n",
       " 'customers',\n",
       " 'or',\n",
       " 'users',\n",
       " 'but',\n",
       " 'you',\n",
       " 'don’t',\n",
       " 'want',\n",
       " 'to',\n",
       " 'lose',\n",
       " 'their',\n",
       " 'trust',\n",
       " 'in',\n",
       " 'the',\n",
       " 'process',\n",
       " 'differentially',\n",
       " 'private',\n",
       " 'data',\n",
       " 'analysis',\n",
       " 'enables',\n",
       " 'organizations',\n",
       " 'to',\n",
       " 'learn',\n",
       " 'from',\n",
       " 'the',\n",
       " 'majority',\n",
       " 'of',\n",
       " 'their',\n",
       " 'data',\n",
       " 'without',\n",
       " 'allowing',\n",
       " 'any',\n",
       " 'single',\n",
       " 'individual’s',\n",
       " 'data',\n",
       " 'to',\n",
       " 'be',\n",
       " 'distinguished',\n",
       " 'or',\n",
       " 're-identified',\n",
       " 'if',\n",
       " 'you',\n",
       " 'are',\n",
       " 'a',\n",
       " 'health',\n",
       " 'researcher',\n",
       " 'you',\n",
       " 'may',\n",
       " 'want',\n",
       " 'to',\n",
       " 'compare',\n",
       " 'the',\n",
       " 'average',\n",
       " 'amount',\n",
       " 'of',\n",
       " 'time',\n",
       " 'patients',\n",
       " 'remain',\n",
       " 'admitted',\n",
       " 'across',\n",
       " 'various',\n",
       " 'hospitals',\n",
       " 'in',\n",
       " 'order',\n",
       " 'to',\n",
       " 'determine',\n",
       " 'if',\n",
       " 'there',\n",
       " 'are',\n",
       " 'differences',\n",
       " 'in',\n",
       " 'care',\n",
       " 'google',\n",
       " 'product',\n",
       " 'manager',\n",
       " 'miguel',\n",
       " 'guevara',\n",
       " 'explains',\n",
       " 'differential',\n",
       " 'privacy',\n",
       " 'is',\n",
       " 'a',\n",
       " 'high-assurance',\n",
       " 'analytic',\n",
       " 'means',\n",
       " 'of',\n",
       " 'ensuring',\n",
       " 'that',\n",
       " 'use',\n",
       " 'cases',\n",
       " 'like',\n",
       " 'this',\n",
       " 'are',\n",
       " 'addressed',\n",
       " 'in',\n",
       " 'a',\n",
       " 'privacy-preserving',\n",
       " 'manner',\n",
       " 'differential',\n",
       " 'privacy',\n",
       " 'library',\n",
       " 'features',\n",
       " 'google',\n",
       " 'promises',\n",
       " 'its',\n",
       " 'library',\n",
       " 'is',\n",
       " 'easy',\n",
       " 'for',\n",
       " 'developers',\n",
       " 'to',\n",
       " 'deploy',\n",
       " 'it',\n",
       " 'can',\n",
       " 'help',\n",
       " 'you',\n",
       " 'perform',\n",
       " 'functions',\n",
       " 'that',\n",
       " 'are',\n",
       " 'difficult',\n",
       " 'to',\n",
       " 'execute',\n",
       " 'from',\n",
       " 'scratch',\n",
       " 'like',\n",
       " 'automatically',\n",
       " 'calculating',\n",
       " 'bounds',\n",
       " 'on',\n",
       " 'user',\n",
       " 'contributions',\n",
       " 'guevera',\n",
       " 'says',\n",
       " 'key',\n",
       " 'features',\n",
       " 'include:',\n",
       " 'statistical',\n",
       " 'functions:',\n",
       " 'most',\n",
       " 'common',\n",
       " 'data',\n",
       " 'science',\n",
       " 'operations',\n",
       " 'counts',\n",
       " 'sums',\n",
       " 'averages',\n",
       " 'medians',\n",
       " 'and',\n",
       " 'percentiles',\n",
       " 'are',\n",
       " 'supported',\n",
       " 'rigorous',\n",
       " 'testing:',\n",
       " 'besides',\n",
       " 'an',\n",
       " 'extensive',\n",
       " 'test',\n",
       " 'suite',\n",
       " 'an',\n",
       " 'extensible',\n",
       " 'stochastic',\n",
       " 'differential',\n",
       " 'privacy',\n",
       " 'model',\n",
       " 'checker',\n",
       " 'library',\n",
       " 'helps',\n",
       " 'prevent',\n",
       " 'mistakes',\n",
       " 'ready',\n",
       " 'to',\n",
       " 'use:',\n",
       " 'a',\n",
       " 'postgresql',\n",
       " 'extension',\n",
       " 'along',\n",
       " 'with',\n",
       " 'common',\n",
       " 'recipes',\n",
       " 'is',\n",
       " 'included',\n",
       " 'modular:',\n",
       " 'the',\n",
       " 'library',\n",
       " 'can',\n",
       " 'be',\n",
       " 'extended',\n",
       " 'to',\n",
       " 'include',\n",
       " 'other',\n",
       " 'functionalities',\n",
       " 'such',\n",
       " 'as',\n",
       " 'additional',\n",
       " 'mechanisms',\n",
       " 'aggregation',\n",
       " 'functions',\n",
       " 'or',\n",
       " 'privacy',\n",
       " 'budget',\n",
       " 'management',\n",
       " 'this',\n",
       " 'isn’t',\n",
       " 'google’s',\n",
       " 'first',\n",
       " 'differential',\n",
       " 'privacy',\n",
       " 'rodeo',\n",
       " 'but',\n",
       " 'the',\n",
       " 'company',\n",
       " 'has',\n",
       " 'been',\n",
       " 'particularly',\n",
       " 'busy',\n",
       " 'in',\n",
       " 'the',\n",
       " 'space',\n",
       " 'this',\n",
       " 'year',\n",
       " 'in',\n",
       " 'march',\n",
       " 'google',\n",
       " 'released',\n",
       " 'tensorflow',\n",
       " 'privacy',\n",
       " 'and',\n",
       " 'tensorflow',\n",
       " 'federated',\n",
       " 'in',\n",
       " 'june',\n",
       " 'the',\n",
       " 'company',\n",
       " 'open-sourced',\n",
       " 'private',\n",
       " 'join',\n",
       " 'and',\n",
       " 'compute',\n",
       " 'which',\n",
       " 'gives',\n",
       " 'companies',\n",
       " 'data',\n",
       " 'insights',\n",
       " 'while',\n",
       " 'preserving',\n",
       " 'privacy',\n",
       " 'to',\n",
       " 'learn',\n",
       " 'more',\n",
       " 'about',\n",
       " 'google’s',\n",
       " 'approach',\n",
       " 'check',\n",
       " 'out',\n",
       " 'the',\n",
       " 'team’s',\n",
       " 'technical',\n",
       " 'paper',\n",
       " 'on',\n",
       " 'arxiv']"
      ]
     },
     "execution_count": 110,
     "metadata": {},
     "output_type": "execute_result"
    }
   ],
   "source": [
    "words"
   ]
  },
  {
   "cell_type": "code",
   "execution_count": 111,
   "id": "d0417e15-e82a-4203-8604-d251a627fde6",
   "metadata": {
    "tags": []
   },
   "outputs": [
    {
     "name": "stdout",
     "output_type": "stream",
     "text": [
      "{'google': 5, 'today': 1, 'released': 2, 'the': 13, 'open': 1, 'source': 1, 'version': 1, 'of': 5, 'differential': 6, 'privacy': 9, 'library': 6, 'used': 2, 'in': 8, 'some': 1, 'its': 2, 'core': 1, 'products': 1, 'such': 2, 'as': 2, 'maps': 1, 'any': 2, 'organization': 1, 'or': 5, 'developer': 2, 'can': 3, 'now': 1, 'check': 2, 'out': 2, 'on': 3, 'github': 1, 'limits': 1, 'algorithms': 1, 'to': 12, 'publish': 1, 'aggregate': 1, 'information': 1, 'about': 2, 'a': 6, 'statistical': 2, 'database': 1, 'whether': 1, 'you': 6, 'are': 7, 'city': 1, 'planner': 1, 'small': 1, 'business': 1, 'owner': 1, 'software': 1, 'chances': 1, 'want': 3, 'gain': 1, 'insights': 2, 'from': 3, 'data': 6, 'your': 1, 'citizens': 1, 'customers': 1, 'users': 1, 'but': 2, 'don’t': 1, 'lose': 1, 'their': 2, 'trust': 1, 'process': 1, 'differentially': 1, 'private': 2, 'analysis': 1, 'enables': 1, 'organizations': 1, 'learn': 2, 'majority': 1, 'without': 1, 'allowing': 1, 'single': 1, 'individual’s': 1, 'be': 2, 'distinguished': 1, 're-identified': 1, 'if': 2, 'health': 1, 'researcher': 1, 'may': 1, 'compare': 1, 'average': 1, 'amount': 1, 'time': 1, 'patients': 1, 'remain': 1, 'admitted': 1, 'across': 1, 'various': 1, 'hospitals': 1, 'order': 1, 'determine': 1, 'there': 1, 'differences': 1, 'care': 1, 'product': 1, 'manager': 1, 'miguel': 1, 'guevara': 1, 'explains': 1, 'is': 3, 'high-assurance': 1, 'analytic': 1, 'means': 1, 'ensuring': 1, 'that': 2, 'use': 1, 'cases': 1, 'like': 2, 'this': 3, 'addressed': 1, 'privacy-preserving': 1, 'manner': 1, 'features': 2, 'promises': 1, 'easy': 1, 'for': 1, 'developers': 1, 'deploy': 1, 'it': 1, 'help': 1, 'perform': 1, 'functions': 2, 'difficult': 1, 'execute': 1, 'scratch': 1, 'automatically': 1, 'calculating': 1, 'bounds': 1, 'user': 1, 'contributions': 1, 'guevera': 1, 'says': 1, 'key': 1, 'include:': 1, 'functions:': 1, 'most': 1, 'common': 2, 'science': 1, 'operations': 1, 'counts': 1, 'sums': 1, 'averages': 1, 'medians': 1, 'and': 3, 'percentiles': 1, 'supported': 1, 'rigorous': 1, 'testing:': 1, 'besides': 1, 'an': 2, 'extensive': 1, 'test': 1, 'suite': 1, 'extensible': 1, 'stochastic': 1, 'model': 1, 'checker': 1, 'helps': 1, 'prevent': 1, 'mistakes': 1, 'ready': 1, 'use:': 1, 'postgresql': 1, 'extension': 1, 'along': 1, 'with': 1, 'recipes': 1, 'included': 1, 'modular:': 1, 'extended': 1, 'include': 1, 'other': 1, 'functionalities': 1, 'additional': 1, 'mechanisms': 1, 'aggregation': 1, 'budget': 1, 'management': 1, 'isn’t': 1, 'google’s': 2, 'first': 1, 'rodeo': 1, 'company': 2, 'has': 1, 'been': 1, 'particularly': 1, 'busy': 1, 'space': 1, 'year': 1, 'march': 1, 'tensorflow': 2, 'federated': 1, 'june': 1, 'open-sourced': 1, 'join': 1, 'compute': 1, 'which': 1, 'gives': 1, 'companies': 1, 'while': 1, 'preserving': 1, 'more': 1, 'approach': 1, 'team’s': 1, 'technical': 1, 'paper': 1, 'arxiv': 1}\n"
     ]
    }
   ],
   "source": [
    "count = {}\n",
    "for word in words:\n",
    "    count.setdefault(word, 0)\n",
    "    count[word] += 1\n",
    "    \n",
    "print(count)"
   ]
  },
  {
   "cell_type": "code",
   "execution_count": 112,
   "id": "21b75970-d944-4419-8fe2-efbc17498aa5",
   "metadata": {
    "tags": []
   },
   "outputs": [],
   "source": [
    "words_by_count = dict()\n",
    "for word in count.keys():\n",
    "    words_by_count.setdefault(count[word], [])\n",
    "    words_by_count[count[word]].append(word)\n"
   ]
  },
  {
   "cell_type": "code",
   "execution_count": 119,
   "id": "8651e4ce-8631-4b70-afaa-7932f9a6eec1",
   "metadata": {
    "tags": []
   },
   "outputs": [
    {
     "name": "stdout",
     "output_type": "stream",
     "text": [
      "Count 13: the \n",
      "\n",
      "Count 12: to \n",
      "\n",
      "Count 9: privacy \n",
      "\n",
      "Count 8: in \n",
      "\n",
      "Count 7: are \n",
      "\n",
      "Count 6: differential library a you data \n",
      "\n",
      "Count 5: google of or \n",
      "\n",
      "Count 3: can on want from is this and \n",
      "\n",
      "Count 2: released used its such as any developer check out about statistical insights but their private learn be if that like features functions common an google’s company tensorflow \n",
      "\n",
      "Count 1: today open source version some core products maps organization now github limits algorithms publish aggregate information database whether city planner small business owner software chances gain your citizens customers users don’t lose trust process differentially analysis enables organizations majority without allowing single individual’s distinguished re-identified health researcher may compare average amount time patients remain admitted across various hospitals order determine there differences care product manager miguel guevara explains high-assurance analytic means ensuring use cases addressed privacy-preserving manner promises easy for developers deploy it help perform difficult execute scratch automatically calculating bounds user contributions guevera says key include: functions: most science operations counts sums averages medians percentiles supported rigorous testing: besides extensive test suite extensible stochastic model checker helps prevent mistakes ready use: postgresql extension along with recipes included modular: extended include other functionalities additional mechanisms aggregation budget management isn’t first rodeo has been particularly busy space year march federated june open-sourced join compute which gives companies while preserving more approach team’s technical paper arxiv \n",
      "\n"
     ]
    }
   ],
   "source": [
    "for item in sorted(words_by_count.keys(), reverse=True):\n",
    "    print (f'Count {item}:', end=' ')\n",
    "    for word in words_by_count[item]:\n",
    "        print(word, end=' ')\n",
    "    print('\\n')"
   ]
  },
  {
   "cell_type": "code",
   "execution_count": 120,
   "id": "49891956-a9be-4026-8f34-9ae60f845638",
   "metadata": {
    "tags": []
   },
   "outputs": [
    {
     "name": "stdout",
     "output_type": "stream",
     "text": [
      "Help on built-in function sorted in module builtins:\n",
      "\n",
      "sorted(iterable, /, *, key=None, reverse=False)\n",
      "    Return a new list containing all items from the iterable in ascending order.\n",
      "    \n",
      "    A custom key function can be supplied to customize the sort order, and the\n",
      "    reverse flag can be set to request the result in descending order.\n",
      "\n"
     ]
    }
   ],
   "source": [
    "help(sorted)"
   ]
  },
  {
   "cell_type": "code",
   "execution_count": 125,
   "id": "7d76ec85-7160-465a-ac50-a805957201e9",
   "metadata": {
    "tags": []
   },
   "outputs": [
    {
     "data": {
      "image/png": "[encoded data removed]",
      "text/plain": [
       "<Figure size 1000x4000 with 1 Axes>"
      ]
     },
     "metadata": {},
     "output_type": "display_data"
    }
   ],
   "source": [
    "words = [w for w in count.keys()]\n",
    "counts = [count[w] for w in words]\n",
    "import matplotlib.pyplot as plt\n",
    "\n",
    "fig = plt.figure(figsize=(10, 40))\n",
    "ax = fig.subplots()\n",
    "plt.barh(words, counts)\n",
    "plt.show()"
   ]
  },
  {
   "cell_type": "code",
   "execution_count": 126,
   "id": "d536e144-5618-471d-b823-908e9c7a8be4",
   "metadata": {
    "tags": []
   },
   "outputs": [],
   "source": [
    "x, y = 1, 2"
   ]
  },
  {
   "cell_type": "code",
   "execution_count": 127,
   "id": "fee66ac2-27cc-4adb-8ed1-be9d50522977",
   "metadata": {
    "tags": []
   },
   "outputs": [
    {
     "name": "stdout",
     "output_type": "stream",
     "text": [
      "1 2\n"
     ]
    }
   ],
   "source": [
    "print(x, y)"
   ]
  },
  {
   "cell_type": "code",
   "execution_count": 128,
   "id": "0b32d82f-6b58-4a6b-b835-5e0137a68f58",
   "metadata": {
    "tags": []
   },
   "outputs": [],
   "source": [
    "x, y = y, x"
   ]
  },
  {
   "cell_type": "code",
   "execution_count": 129,
   "id": "7d65a82c-68ee-4f02-8202-59d513f4faf6",
   "metadata": {
    "tags": []
   },
   "outputs": [
    {
     "name": "stdout",
     "output_type": "stream",
     "text": [
      "2 1\n"
     ]
    }
   ],
   "source": [
    "print(x, y)"
   ]
  },
  {
   "cell_type": "code",
   "execution_count": 130,
   "id": "fa5bc19f-6396-4b68-a424-9d66579b747e",
   "metadata": {
    "tags": []
   },
   "outputs": [],
   "source": [
    "x, y = (1, 2)"
   ]
  },
  {
   "cell_type": "code",
   "execution_count": 131,
   "id": "0a89e3dd-0939-48ac-bee6-cad55285d94d",
   "metadata": {
    "tags": []
   },
   "outputs": [
    {
     "name": "stdout",
     "output_type": "stream",
     "text": [
      "1 2\n"
     ]
    }
   ],
   "source": [
    "print(x, y)"
   ]
  },
  {
   "cell_type": "code",
   "execution_count": 133,
   "id": "baa6e65c-9c76-43f7-83db-af9b0601c66e",
   "metadata": {
    "tags": []
   },
   "outputs": [
    {
     "ename": "ValueError",
     "evalue": "too many values to unpack (expected 3)",
     "output_type": "error",
     "traceback": [
      "\u001b[1;31m---------------------------------------------------------------------------\u001b[0m",
      "\u001b[1;31mValueError\u001b[0m                                Traceback (most recent call last)",
      "Cell \u001b[1;32mIn[133], line 1\u001b[0m\n\u001b[1;32m----> 1\u001b[0m x, y, z \u001b[38;5;241m=\u001b[39m (\u001b[38;5;241m1\u001b[39m, \u001b[38;5;241m2\u001b[39m, \u001b[38;5;241m3\u001b[39m, \u001b[38;5;241m4\u001b[39m)\n",
      "\u001b[1;31mValueError\u001b[0m: too many values to unpack (expected 3)"
     ]
    }
   ],
   "source": [
    "x, y, z = (1, 2, 3, 4)"
   ]
  },
  {
   "cell_type": "code",
   "execution_count": 134,
   "id": "50b968ac-dc44-4dac-ac54-6d9f1025ba8b",
   "metadata": {
    "tags": []
   },
   "outputs": [],
   "source": [
    "x, y, *z = (1, 2, 3, 4)"
   ]
  },
  {
   "cell_type": "code",
   "execution_count": 135,
   "id": "e28572a8-1c81-46c3-b6f6-1a26fa62c25b",
   "metadata": {
    "tags": []
   },
   "outputs": [
    {
     "name": "stdout",
     "output_type": "stream",
     "text": [
      "1 2 [3, 4]\n"
     ]
    }
   ],
   "source": [
    "print(x, y, z)"
   ]
  },
  {
   "cell_type": "code",
   "execution_count": 136,
   "id": "c803b4b8-8900-4efa-a8b0-b6bbd3466f32",
   "metadata": {
    "tags": []
   },
   "outputs": [],
   "source": [
    "x, *y, z = (1, 2, 3, 4)"
   ]
  },
  {
   "cell_type": "code",
   "execution_count": 137,
   "id": "b5d4260e-c891-42f5-a5cf-3c90dc1528df",
   "metadata": {
    "tags": []
   },
   "outputs": [
    {
     "name": "stdout",
     "output_type": "stream",
     "text": [
      "1 [2, 3] 4\n"
     ]
    }
   ],
   "source": [
    "print(x, y, z)"
   ]
  },
  {
   "cell_type": "code",
   "execution_count": 138,
   "id": "41796abb-316f-4418-9e6a-b2084225e5e2",
   "metadata": {
    "tags": []
   },
   "outputs": [],
   "source": [
    "x = y = z = 3"
   ]
  },
  {
   "cell_type": "code",
   "execution_count": 139,
   "id": "f10319cf-727e-4a53-ab71-5ed1cdc288ad",
   "metadata": {
    "tags": []
   },
   "outputs": [
    {
     "name": "stdout",
     "output_type": "stream",
     "text": [
      "3 3 3\n"
     ]
    }
   ],
   "source": [
    "print(x, y, z)"
   ]
  },
  {
   "cell_type": "code",
   "execution_count": 140,
   "id": "1118295c-30f6-400b-a114-9ee08b712b34",
   "metadata": {
    "tags": []
   },
   "outputs": [
    {
     "name": "stdout",
     "output_type": "stream",
     "text": [
      "[4] [4] [4]\n"
     ]
    }
   ],
   "source": [
    "x = y = z = [3]\n",
    "x[0] = 4\n",
    "print(x, y, z)"
   ]
  },
  {
   "cell_type": "code",
   "execution_count": 142,
   "id": "a2a5f9e7-af01-4ac7-83cd-26b3535b4d59",
   "metadata": {
    "tags": []
   },
   "outputs": [
    {
     "name": "stdout",
     "output_type": "stream",
     "text": [
      "[4] [3]\n"
     ]
    }
   ],
   "source": [
    "x = [3]\n",
    "y = [3]\n",
    "\n",
    "x[0] = 4\n",
    "print(x, y)"
   ]
  },
  {
   "cell_type": "code",
   "execution_count": 143,
   "id": "980aa77c-e71b-490a-88a0-7ab8bda2a874",
   "metadata": {
    "tags": []
   },
   "outputs": [
    {
     "data": {
      "text/plain": [
       "False"
      ]
     },
     "execution_count": 143,
     "metadata": {},
     "output_type": "execute_result"
    }
   ],
   "source": [
    "x is y"
   ]
  },
  {
   "cell_type": "code",
   "execution_count": 144,
   "id": "c2221bee-b253-4f5e-9559-6b13465d037c",
   "metadata": {
    "tags": []
   },
   "outputs": [
    {
     "data": {
      "text/plain": [
       "True"
      ]
     },
     "execution_count": 144,
     "metadata": {},
     "output_type": "execute_result"
    }
   ],
   "source": [
    "x = 3\n",
    "y = 3\n",
    "x is y"
   ]
  },
  {
   "cell_type": "code",
   "execution_count": 145,
   "id": "3638caba-a644-4a8e-bf4b-8eff6045b53f",
   "metadata": {
    "tags": []
   },
   "outputs": [
    {
     "data": {
      "text/plain": [
       "int"
      ]
     },
     "execution_count": 145,
     "metadata": {},
     "output_type": "execute_result"
    }
   ],
   "source": [
    "type(x)"
   ]
  },
  {
   "cell_type": "code",
   "execution_count": 146,
   "id": "570d0a6e-307b-4537-84a6-7c3dd122d21b",
   "metadata": {
    "tags": []
   },
   "outputs": [
    {
     "data": {
      "text/plain": [
       "False"
      ]
     },
     "execution_count": 146,
     "metadata": {},
     "output_type": "execute_result"
    }
   ],
   "source": [
    "x = (3,)\n",
    "y = (3,)\n",
    "x is y"
   ]
  },
  {
   "cell_type": "code",
   "execution_count": 147,
   "id": "3507d30d-7ae7-4ef0-be3f-f70a2ac019a1",
   "metadata": {
    "tags": []
   },
   "outputs": [
    {
     "data": {
      "text/plain": [
       "True"
      ]
     },
     "execution_count": 147,
     "metadata": {},
     "output_type": "execute_result"
    }
   ],
   "source": [
    "x = y = (3,)\n",
    "x is y"
   ]
  },
  {
   "cell_type": "code",
   "execution_count": 148,
   "id": "cfd6a7d1-5d42-404d-887c-22d60f8ff903",
   "metadata": {
    "tags": []
   },
   "outputs": [
    {
     "data": {
      "text/plain": [
       "False"
      ]
     },
     "execution_count": 148,
     "metadata": {},
     "output_type": "execute_result"
    }
   ],
   "source": [
    "bool(\"\")"
   ]
  },
  {
   "cell_type": "code",
   "execution_count": 149,
   "id": "9da25df7-9f57-47b9-b973-34d87304ead5",
   "metadata": {
    "tags": []
   },
   "outputs": [
    {
     "data": {
      "text/plain": [
       "True"
      ]
     },
     "execution_count": 149,
     "metadata": {},
     "output_type": "execute_result"
    }
   ],
   "source": [
    "bool(\"s\")"
   ]
  },
  {
   "cell_type": "code",
   "execution_count": 150,
   "id": "8756731e-21bf-4b83-a071-9a92712af291",
   "metadata": {
    "tags": []
   },
   "outputs": [
    {
     "data": {
      "text/plain": [
       "True"
      ]
     },
     "execution_count": 150,
     "metadata": {},
     "output_type": "execute_result"
    }
   ],
   "source": [
    "bool([1])"
   ]
  },
  {
   "cell_type": "code",
   "execution_count": 151,
   "id": "8491dc53-58da-4c4e-aef6-9dda093dcff0",
   "metadata": {
    "tags": []
   },
   "outputs": [
    {
     "data": {
      "text/plain": [
       "False"
      ]
     },
     "execution_count": 151,
     "metadata": {},
     "output_type": "execute_result"
    }
   ],
   "source": [
    "bool([])"
   ]
  },
  {
   "cell_type": "code",
   "execution_count": 152,
   "id": "5843fb5a-b3d7-4d57-b2fb-cd8d2d75793e",
   "metadata": {
    "tags": []
   },
   "outputs": [
    {
     "name": "stderr",
     "output_type": "stream",
     "text": [
      "<>:1: SyntaxWarning: \"is\" with a literal. Did you mean \"==\"?\n",
      "<>:1: SyntaxWarning: \"is\" with a literal. Did you mean \"==\"?\n",
      "C:\\Users\\19152\\AppData\\Local\\Temp\\ipykernel_75652\\1970757598.py:1: SyntaxWarning: \"is\" with a literal. Did you mean \"==\"?\n",
      "  \"s\" is True\n"
     ]
    },
    {
     "data": {
      "text/plain": [
       "False"
      ]
     },
     "execution_count": 152,
     "metadata": {},
     "output_type": "execute_result"
    }
   ],
   "source": [
    "\"s\" is True"
   ]
  },
  {
   "cell_type": "code",
   "execution_count": 153,
   "id": "107078b9-e5d7-409e-9883-b8ea9529ae83",
   "metadata": {
    "tags": []
   },
   "outputs": [
    {
     "data": {
      "text/plain": [
       "True"
      ]
     },
     "execution_count": 153,
     "metadata": {},
     "output_type": "execute_result"
    }
   ],
   "source": [
    "bool(\"s\") is True"
   ]
  },
  {
   "cell_type": "code",
   "execution_count": 154,
   "id": "4e583c99-b5c1-469a-b445-7f7a1792b645",
   "metadata": {
    "tags": []
   },
   "outputs": [
    {
     "data": {
      "text/plain": [
       "2"
      ]
     },
     "execution_count": 154,
     "metadata": {},
     "output_type": "execute_result"
    }
   ],
   "source": [
    "1+True"
   ]
  },
  {
   "cell_type": "code",
   "execution_count": 155,
   "id": "1a9d6776-32fa-40be-82f2-5bc410e41ac8",
   "metadata": {
    "tags": []
   },
   "outputs": [
    {
     "data": {
      "text/plain": [
       "1"
      ]
     },
     "execution_count": 155,
     "metadata": {},
     "output_type": "execute_result"
    }
   ],
   "source": [
    "1+False"
   ]
  },
  {
   "cell_type": "code",
   "execution_count": null,
   "id": "9bf72385-1f6d-4527-91a0-a6b183358042",
   "metadata": {},
   "outputs": [],
   "source": []
  }
 ],
 "metadata": {
  "kernelspec": {
   "display_name": "Python 3 (ipykernel)",
   "language": "python",
   "name": "python3"
  },
  "language_info": {
   "codemirror_mode": {
    "name": "ipython",
    "version": 3
   },
   "file_extension": ".py",
   "mimetype": "text/x-python",
   "name": "python",
   "nbconvert_exporter": "python",
   "pygments_lexer": "ipython3",
   "version": "3.11.4"
  }
 },
 "nbformat": 4,
 "nbformat_minor": 5
}
